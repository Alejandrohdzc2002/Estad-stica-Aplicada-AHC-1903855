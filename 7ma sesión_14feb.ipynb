{
 "cells": [
  {
   "cell_type": "markdown",
   "id": "48a2f29a",
   "metadata": {},
   "source": [
    "# Estadística Aplicad\n",
    "## Alejandro Hernández Cerda 1903855\n",
    "### 7ma sesión 14 de feb de 2023"
   ]
  },
  {
   "cell_type": "code",
   "execution_count": 1,
   "id": "ee51f432",
   "metadata": {},
   "outputs": [],
   "source": [
    "import numpy as np\n",
    "import pandas as pd\n",
    "import matplotlib.pyplot as plt\n",
    "%matplotlib inline"
   ]
  },
  {
   "cell_type": "code",
   "execution_count": 2,
   "id": "baaaf375",
   "metadata": {},
   "outputs": [],
   "source": [
    "credito=pd.read_csv('https://raw.githubusercontent.com/jimmyzac/Estadistica-Aplicada-FCFM-UANL/main/bases_datos/credit_risk.csv')"
   ]
  },
  {
   "cell_type": "code",
   "execution_count": 3,
   "id": "e04cdd79",
   "metadata": {},
   "outputs": [
    {
     "data": {
      "text/html": [
       "<div>\n",
       "<style scoped>\n",
       "    .dataframe tbody tr th:only-of-type {\n",
       "        vertical-align: middle;\n",
       "    }\n",
       "\n",
       "    .dataframe tbody tr th {\n",
       "        vertical-align: top;\n",
       "    }\n",
       "\n",
       "    .dataframe thead th {\n",
       "        text-align: right;\n",
       "    }\n",
       "</style>\n",
       "<table border=\"1\" class=\"dataframe\">\n",
       "  <thead>\n",
       "    <tr style=\"text-align: right;\">\n",
       "      <th></th>\n",
       "      <th>checking_account_status</th>\n",
       "      <th>duration</th>\n",
       "      <th>credit_history</th>\n",
       "      <th>purpose</th>\n",
       "      <th>amount</th>\n",
       "      <th>savings_account_status</th>\n",
       "      <th>employment_years</th>\n",
       "      <th>installment_rate</th>\n",
       "      <th>personal_status</th>\n",
       "      <th>other_debtors</th>\n",
       "      <th>...</th>\n",
       "      <th>property</th>\n",
       "      <th>age</th>\n",
       "      <th>other_installment_plans</th>\n",
       "      <th>housing</th>\n",
       "      <th>number_of_credits</th>\n",
       "      <th>job</th>\n",
       "      <th>people_liable</th>\n",
       "      <th>telephone</th>\n",
       "      <th>foreign_worker</th>\n",
       "      <th>full_repaid</th>\n",
       "    </tr>\n",
       "  </thead>\n",
       "  <tbody>\n",
       "    <tr>\n",
       "      <th>0</th>\n",
       "      <td>below_0</td>\n",
       "      <td>6</td>\n",
       "      <td>critical_account</td>\n",
       "      <td>radio_TV</td>\n",
       "      <td>1169</td>\n",
       "      <td>unknown</td>\n",
       "      <td>above_7</td>\n",
       "      <td>4</td>\n",
       "      <td>M_single</td>\n",
       "      <td>None</td>\n",
       "      <td>...</td>\n",
       "      <td>real_estate</td>\n",
       "      <td>67</td>\n",
       "      <td>None</td>\n",
       "      <td>own</td>\n",
       "      <td>2</td>\n",
       "      <td>official</td>\n",
       "      <td>1</td>\n",
       "      <td>1</td>\n",
       "      <td>1</td>\n",
       "      <td>1</td>\n",
       "    </tr>\n",
       "    <tr>\n",
       "      <th>1</th>\n",
       "      <td>0_to_200</td>\n",
       "      <td>48</td>\n",
       "      <td>existing_credit_paid</td>\n",
       "      <td>radio_TV</td>\n",
       "      <td>5951</td>\n",
       "      <td>below_100</td>\n",
       "      <td>between_1_4</td>\n",
       "      <td>2</td>\n",
       "      <td>F_not_single</td>\n",
       "      <td>None</td>\n",
       "      <td>...</td>\n",
       "      <td>real_estate</td>\n",
       "      <td>22</td>\n",
       "      <td>None</td>\n",
       "      <td>own</td>\n",
       "      <td>1</td>\n",
       "      <td>official</td>\n",
       "      <td>1</td>\n",
       "      <td>0</td>\n",
       "      <td>1</td>\n",
       "      <td>0</td>\n",
       "    </tr>\n",
       "    <tr>\n",
       "      <th>2</th>\n",
       "      <td>no_account</td>\n",
       "      <td>12</td>\n",
       "      <td>critical_account</td>\n",
       "      <td>education</td>\n",
       "      <td>2096</td>\n",
       "      <td>below_100</td>\n",
       "      <td>between_4_7</td>\n",
       "      <td>2</td>\n",
       "      <td>M_single</td>\n",
       "      <td>None</td>\n",
       "      <td>...</td>\n",
       "      <td>real_estate</td>\n",
       "      <td>49</td>\n",
       "      <td>None</td>\n",
       "      <td>own</td>\n",
       "      <td>1</td>\n",
       "      <td>unskilled</td>\n",
       "      <td>2</td>\n",
       "      <td>0</td>\n",
       "      <td>1</td>\n",
       "      <td>1</td>\n",
       "    </tr>\n",
       "    <tr>\n",
       "      <th>3</th>\n",
       "      <td>below_0</td>\n",
       "      <td>42</td>\n",
       "      <td>existing_credit_paid</td>\n",
       "      <td>furniture_equipment</td>\n",
       "      <td>7882</td>\n",
       "      <td>below_100</td>\n",
       "      <td>between_4_7</td>\n",
       "      <td>2</td>\n",
       "      <td>M_single</td>\n",
       "      <td>guarantor</td>\n",
       "      <td>...</td>\n",
       "      <td>life_insurance</td>\n",
       "      <td>45</td>\n",
       "      <td>None</td>\n",
       "      <td>free</td>\n",
       "      <td>1</td>\n",
       "      <td>official</td>\n",
       "      <td>2</td>\n",
       "      <td>0</td>\n",
       "      <td>1</td>\n",
       "      <td>1</td>\n",
       "    </tr>\n",
       "    <tr>\n",
       "      <th>4</th>\n",
       "      <td>below_0</td>\n",
       "      <td>24</td>\n",
       "      <td>delay_in_paying</td>\n",
       "      <td>car_new</td>\n",
       "      <td>4870</td>\n",
       "      <td>below_100</td>\n",
       "      <td>between_1_4</td>\n",
       "      <td>3</td>\n",
       "      <td>M_single</td>\n",
       "      <td>None</td>\n",
       "      <td>...</td>\n",
       "      <td>no_property</td>\n",
       "      <td>53</td>\n",
       "      <td>None</td>\n",
       "      <td>free</td>\n",
       "      <td>2</td>\n",
       "      <td>official</td>\n",
       "      <td>2</td>\n",
       "      <td>0</td>\n",
       "      <td>1</td>\n",
       "      <td>0</td>\n",
       "    </tr>\n",
       "  </tbody>\n",
       "</table>\n",
       "<p>5 rows × 21 columns</p>\n",
       "</div>"
      ],
      "text/plain": [
       "  checking_account_status  duration        credit_history  \\\n",
       "0                 below_0         6      critical_account   \n",
       "1                0_to_200        48  existing_credit_paid   \n",
       "2              no_account        12      critical_account   \n",
       "3                 below_0        42  existing_credit_paid   \n",
       "4                 below_0        24       delay_in_paying   \n",
       "\n",
       "               purpose  amount savings_account_status employment_years  \\\n",
       "0             radio_TV    1169                unknown          above_7   \n",
       "1             radio_TV    5951              below_100      between_1_4   \n",
       "2            education    2096              below_100      between_4_7   \n",
       "3  furniture_equipment    7882              below_100      between_4_7   \n",
       "4              car_new    4870              below_100      between_1_4   \n",
       "\n",
       "   installment_rate personal_status other_debtors  ...          property age  \\\n",
       "0                 4        M_single          None  ...      real_estate   67   \n",
       "1                 2    F_not_single          None  ...      real_estate   22   \n",
       "2                 2        M_single          None  ...      real_estate   49   \n",
       "3                 2        M_single     guarantor  ...  life_insurance    45   \n",
       "4                 3        M_single          None  ...       no_property  53   \n",
       "\n",
       "   other_installment_plans housing number_of_credits        job people_liable  \\\n",
       "0                     None     own                 2   official             1   \n",
       "1                     None     own                 1   official             1   \n",
       "2                     None     own                 1  unskilled             2   \n",
       "3                     None    free                 1   official             2   \n",
       "4                     None    free                 2   official             2   \n",
       "\n",
       "   telephone  foreign_worker  full_repaid  \n",
       "0          1               1            1  \n",
       "1          0               1            0  \n",
       "2          0               1            1  \n",
       "3          0               1            1  \n",
       "4          0               1            0  \n",
       "\n",
       "[5 rows x 21 columns]"
      ]
     },
     "execution_count": 3,
     "metadata": {},
     "output_type": "execute_result"
    }
   ],
   "source": [
    "credito.head()"
   ]
  },
  {
   "cell_type": "code",
   "execution_count": 4,
   "id": "c8b3bc30",
   "metadata": {},
   "outputs": [
    {
     "data": {
      "text/html": [
       "<div>\n",
       "<style scoped>\n",
       "    .dataframe tbody tr th:only-of-type {\n",
       "        vertical-align: middle;\n",
       "    }\n",
       "\n",
       "    .dataframe tbody tr th {\n",
       "        vertical-align: top;\n",
       "    }\n",
       "\n",
       "    .dataframe thead th {\n",
       "        text-align: right;\n",
       "    }\n",
       "</style>\n",
       "<table border=\"1\" class=\"dataframe\">\n",
       "  <thead>\n",
       "    <tr style=\"text-align: right;\">\n",
       "      <th></th>\n",
       "      <th>duration</th>\n",
       "      <th>full_repaid</th>\n",
       "    </tr>\n",
       "  </thead>\n",
       "  <tbody>\n",
       "    <tr>\n",
       "      <th>0</th>\n",
       "      <td>6</td>\n",
       "      <td>1</td>\n",
       "    </tr>\n",
       "    <tr>\n",
       "      <th>1</th>\n",
       "      <td>48</td>\n",
       "      <td>0</td>\n",
       "    </tr>\n",
       "    <tr>\n",
       "      <th>2</th>\n",
       "      <td>12</td>\n",
       "      <td>1</td>\n",
       "    </tr>\n",
       "    <tr>\n",
       "      <th>3</th>\n",
       "      <td>42</td>\n",
       "      <td>1</td>\n",
       "    </tr>\n",
       "    <tr>\n",
       "      <th>4</th>\n",
       "      <td>24</td>\n",
       "      <td>0</td>\n",
       "    </tr>\n",
       "    <tr>\n",
       "      <th>...</th>\n",
       "      <td>...</td>\n",
       "      <td>...</td>\n",
       "    </tr>\n",
       "    <tr>\n",
       "      <th>995</th>\n",
       "      <td>12</td>\n",
       "      <td>1</td>\n",
       "    </tr>\n",
       "    <tr>\n",
       "      <th>996</th>\n",
       "      <td>30</td>\n",
       "      <td>1</td>\n",
       "    </tr>\n",
       "    <tr>\n",
       "      <th>997</th>\n",
       "      <td>12</td>\n",
       "      <td>1</td>\n",
       "    </tr>\n",
       "    <tr>\n",
       "      <th>998</th>\n",
       "      <td>45</td>\n",
       "      <td>0</td>\n",
       "    </tr>\n",
       "    <tr>\n",
       "      <th>999</th>\n",
       "      <td>45</td>\n",
       "      <td>1</td>\n",
       "    </tr>\n",
       "  </tbody>\n",
       "</table>\n",
       "<p>1000 rows × 2 columns</p>\n",
       "</div>"
      ],
      "text/plain": [
       "     duration  full_repaid\n",
       "0           6            1\n",
       "1          48            0\n",
       "2          12            1\n",
       "3          42            1\n",
       "4          24            0\n",
       "..        ...          ...\n",
       "995        12            1\n",
       "996        30            1\n",
       "997        12            1\n",
       "998        45            0\n",
       "999        45            1\n",
       "\n",
       "[1000 rows x 2 columns]"
      ]
     },
     "execution_count": 4,
     "metadata": {},
     "output_type": "execute_result"
    }
   ],
   "source": [
    "credito[['duration','full_repaid']]"
   ]
  },
  {
   "cell_type": "markdown",
   "id": "479a5026",
   "metadata": {},
   "source": [
    "En esta base de datos, el evento es pagar el crédito en su totalidad donde 0 es que no ha terminado y 1 es que ya lo completó"
   ]
  },
  {
   "cell_type": "markdown",
   "id": "e963034c",
   "metadata": {},
   "source": [
    "Cuando no omitimos los datos que aun no han terminado de pagar el promedio se dispara\n",
    "### Incorrecto"
   ]
  },
  {
   "cell_type": "code",
   "execution_count": 12,
   "id": "b8d0726a",
   "metadata": {},
   "outputs": [
    {
     "data": {
      "text/plain": [
       "20.9"
      ]
     },
     "execution_count": 12,
     "metadata": {},
     "output_type": "execute_result"
    }
   ],
   "source": [
    "round(credito['duration'].mean(),2)"
   ]
  },
  {
   "cell_type": "markdown",
   "id": "22755804",
   "metadata": {},
   "source": [
    "Una vez omitimos esos datos, el promedio se pondera\n",
    "### Correcto"
   ]
  },
  {
   "cell_type": "code",
   "execution_count": 14,
   "id": "59f7d60c",
   "metadata": {},
   "outputs": [
    {
     "data": {
      "text/plain": [
       "19.21"
      ]
     },
     "execution_count": 14,
     "metadata": {},
     "output_type": "execute_result"
    }
   ],
   "source": [
    "round(credito[credito['full_repaid']==1]['duration'].mean(),2)"
   ]
  },
  {
   "cell_type": "markdown",
   "id": "e08588dd",
   "metadata": {},
   "source": [
    "La variable **T** es una v.a no negatica que mide el tiempo de supervivencia $T\\geq0$\n",
    "donde **t** es un valor especifico que toma la variable **T**"
   ]
  },
  {
   "cell_type": "markdown",
   "id": "fc64289f",
   "metadata": {},
   "source": [
    "La funcion de supervivencia se denota por:\n",
    "\n",
    "$$S(t)=P(T>t)$$"
   ]
  },
  {
   "cell_type": "markdown",
   "id": "bbe4694f",
   "metadata": {},
   "source": [
    "Sus caracteristicas son:\n",
    "1. $S(0)=1$\n",
    "2. $S(t \\rightarrow \\infty)=0$\n",
    "3. **Funcion decreciente**"
   ]
  },
  {
   "cell_type": "markdown",
   "id": "1f1fde17",
   "metadata": {},
   "source": [
    "$P(T<t)= F(t)$"
   ]
  },
  {
   "cell_type": "markdown",
   "id": "a6ce7fd4",
   "metadata": {},
   "source": [
    "La probabilidad de que el evento/falla ocurra antes del tiempo \"t\""
   ]
  },
  {
   "cell_type": "markdown",
   "id": "d158d683",
   "metadata": {},
   "source": [
    "F(t) es la funcion de distribución acumulada, y si conocemos F(t) podemos conocer la funcion de densidad derivando la acumulada:"
   ]
  },
  {
   "cell_type": "markdown",
   "id": "2b744a44",
   "metadata": {},
   "source": [
    "$$f(t)=\\frac{dFt}{dt}$$"
   ]
  },
  {
   "cell_type": "markdown",
   "id": "dd924fc1",
   "metadata": {},
   "source": [
    "$f(t)=P(T=t)$ es la probabilidad de que el evento ocurra en \"t\""
   ]
  },
  {
   "cell_type": "markdown",
   "id": "bfe95db8",
   "metadata": {},
   "source": [
    "$P(A)=1-P(A)$"
   ]
  },
  {
   "cell_type": "markdown",
   "id": "ce079145",
   "metadata": {},
   "source": [
    "$P(T<t) = 1 - P(T>t)$"
   ]
  },
  {
   "cell_type": "markdown",
   "id": "b7d8db00",
   "metadata": {},
   "source": [
    "$F(t)=1-S(t)$"
   ]
  },
  {
   "cell_type": "markdown",
   "id": "1d4881b4",
   "metadata": {},
   "source": [
    "$S(t)=1-F(t)$"
   ]
  },
  {
   "cell_type": "markdown",
   "id": "0f00528f",
   "metadata": {},
   "source": [
    "Sabemos que $f(t)=\\frac{dFt}{dt}=\\frac{d(1-S(t)}{dt}=-\\frac{dS(t)}{dt}$"
   ]
  },
  {
   "cell_type": "markdown",
   "id": "133ebcb4",
   "metadata": {},
   "source": [
    "Hallar la probabilidad de morir a los 40 años, si la funcion de supervivencia de los individuos es la siguiente: $1-\\frac{t^2}{10,000}$ \n"
   ]
  }
 ],
 "metadata": {
  "kernelspec": {
   "display_name": "Python 3 (ipykernel)",
   "language": "python",
   "name": "python3"
  },
  "language_info": {
   "codemirror_mode": {
    "name": "ipython",
    "version": 3
   },
   "file_extension": ".py",
   "mimetype": "text/x-python",
   "name": "python",
   "nbconvert_exporter": "python",
   "pygments_lexer": "ipython3",
   "version": "3.9.13"
  }
 },
 "nbformat": 4,
 "nbformat_minor": 5
}
