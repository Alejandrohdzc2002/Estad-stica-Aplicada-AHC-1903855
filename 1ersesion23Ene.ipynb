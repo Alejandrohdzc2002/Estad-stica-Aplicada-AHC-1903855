{
 "cells": [
  {
   "cell_type": "markdown",
   "id": "9ac50639-041b-4679-bca1-9897f0a6a892",
   "metadata": {
    "tags": []
   },
   "source": [
    "# Estadistica Aplicada\n",
    "## Actuaria FCFM\n",
    "### AHC 1903855"
   ]
  },
  {
   "cell_type": "markdown",
   "id": "9c34152c-03af-423f-94bf-d4b6f5a1ca7a",
   "metadata": {},
   "source": [
    "esto se va a hacer **negritas** "
   ]
  },
  {
   "cell_type": "markdown",
   "id": "341c4730-25bb-4e5e-ad71-59f66e9457b3",
   "metadata": {},
   "source": [
    "esto se va a hacer *negritas*\n"
   ]
  },
  {
   "cell_type": "markdown",
   "id": "186f5c29-453d-4f0b-b3d6-6634bb84164b",
   "metadata": {},
   "source": [
    "$y_i=mx_i+b$"
   ]
  },
  {
   "cell_type": "code",
   "execution_count": 3,
   "id": "2417e74e-438a-4254-88ad-b6d9c3076d9d",
   "metadata": {},
   "outputs": [],
   "source": [
    "variable1 = 1.34"
   ]
  },
  {
   "cell_type": "code",
   "execution_count": 5,
   "id": "4ad21cc8-1d75-49f3-bbf8-9612db0d4e3f",
   "metadata": {},
   "outputs": [
    {
     "data": {
      "text/plain": [
       "1.34"
      ]
     },
     "execution_count": 5,
     "metadata": {},
     "output_type": "execute_result"
    }
   ],
   "source": [
    "variable1"
   ]
  },
  {
   "cell_type": "code",
   "execution_count": 14,
   "id": "d818324a-fb5b-419b-b2a0-6f3d9df01f3d",
   "metadata": {},
   "outputs": [],
   "source": [
    "variable2 = 2"
   ]
  },
  {
   "cell_type": "code",
   "execution_count": 10,
   "id": "c082c9ea-1447-46fa-b4ae-fc690e5f533e",
   "metadata": {},
   "outputs": [],
   "source": [
    "variable3 = 'A'"
   ]
  },
  {
   "cell_type": "code",
   "execution_count": 12,
   "id": "9861dd73-c572-4eea-9857-24626ddaaa96",
   "metadata": {},
   "outputs": [
    {
     "data": {
      "text/plain": [
       "float"
      ]
     },
     "execution_count": 12,
     "metadata": {},
     "output_type": "execute_result"
    }
   ],
   "source": [
    "type(variable1)"
   ]
  },
  {
   "cell_type": "code",
   "execution_count": 16,
   "id": "52eb66bf-6983-4bd2-b285-b13053732b48",
   "metadata": {},
   "outputs": [
    {
     "data": {
      "text/plain": [
       "int"
      ]
     },
     "execution_count": 16,
     "metadata": {},
     "output_type": "execute_result"
    }
   ],
   "source": [
    "type(variable2)"
   ]
  },
  {
   "cell_type": "code",
   "execution_count": 18,
   "id": "5bf25866-cede-455d-b00b-5657ae7d21fb",
   "metadata": {},
   "outputs": [
    {
     "data": {
      "text/plain": [
       "str"
      ]
     },
     "execution_count": 18,
     "metadata": {},
     "output_type": "execute_result"
    }
   ],
   "source": [
    "type(variable3)"
   ]
  },
  {
   "cell_type": "code",
   "execution_count": 20,
   "id": "c2804202-4bf0-4c87-b633-f4d9099eff5a",
   "metadata": {},
   "outputs": [
    {
     "data": {
      "text/plain": [
       "2.0"
      ]
     },
     "execution_count": 20,
     "metadata": {},
     "output_type": "execute_result"
    }
   ],
   "source": [
    "float(variable2)"
   ]
  },
  {
   "cell_type": "code",
   "execution_count": 22,
   "id": "03042cab-398f-4522-9ca9-77b1005d5bff",
   "metadata": {},
   "outputs": [
    {
     "data": {
      "text/plain": [
       "1"
      ]
     },
     "execution_count": 22,
     "metadata": {},
     "output_type": "execute_result"
    }
   ],
   "source": [
    "int(variable1)"
   ]
  },
  {
   "cell_type": "code",
   "execution_count": 24,
   "id": "b32c48ae-034e-4aa2-848f-143e678088eb",
   "metadata": {},
   "outputs": [],
   "source": [
    "variable2=float(variable2)"
   ]
  },
  {
   "cell_type": "code",
   "execution_count": 26,
   "id": "c6d8982f-3b4b-4565-8348-98175d15b579",
   "metadata": {},
   "outputs": [
    {
     "data": {
      "text/plain": [
       "2.0"
      ]
     },
     "execution_count": 26,
     "metadata": {},
     "output_type": "execute_result"
    }
   ],
   "source": [
    "variable2"
   ]
  },
  {
   "cell_type": "code",
   "execution_count": 28,
   "id": "659ce783-7c94-43a4-9319-1b1af49b6876",
   "metadata": {},
   "outputs": [
    {
     "name": "stdout",
     "output_type": "stream",
     "text": [
      "A\n"
     ]
    }
   ],
   "source": [
    "print(variable3)"
   ]
  },
  {
   "cell_type": "code",
   "execution_count": 30,
   "id": "28349943-9aab-4ee7-8676-6ddf866403c1",
   "metadata": {},
   "outputs": [
    {
     "data": {
      "text/plain": [
       "'A'"
      ]
     },
     "execution_count": 30,
     "metadata": {},
     "output_type": "execute_result"
    }
   ],
   "source": [
    "variable3"
   ]
  },
  {
   "cell_type": "code",
   "execution_count": 32,
   "id": "5de1afa5-5dd2-4fb9-ba84-84717f68f586",
   "metadata": {},
   "outputs": [
    {
     "data": {
      "text/plain": [
       "(2.0, 'A')"
      ]
     },
     "execution_count": 32,
     "metadata": {},
     "output_type": "execute_result"
    }
   ],
   "source": [
    "variable2, variable3"
   ]
  },
  {
   "cell_type": "code",
   "execution_count": 35,
   "id": "d1099905-219a-49f9-98fd-4e3ffb36fdf1",
   "metadata": {},
   "outputs": [
    {
     "name": "stdout",
     "output_type": "stream",
     "text": [
      "Esto es una variable decimal: 2.0\n"
     ]
    }
   ],
   "source": [
    "print(\"Esto es una variable decimal:\",variable2)"
   ]
  },
  {
   "cell_type": "code",
   "execution_count": 39,
   "id": "1797ccee-2f8d-45d4-9063-95a49b2b6fc2",
   "metadata": {},
   "outputs": [
    {
     "name": "stdout",
     "output_type": "stream",
     "text": [
      "este es un numero decimal: 2.0\n"
     ]
    }
   ],
   "source": [
    "print(f'este es un numero decimal: {variable2}')"
   ]
  },
  {
   "cell_type": "code",
   "execution_count": 40,
   "id": "24be0a46-fa8f-40e3-9a5d-e4ab87a80beb",
   "metadata": {},
   "outputs": [],
   "source": [
    "boleano1= True"
   ]
  },
  {
   "cell_type": "code",
   "execution_count": 42,
   "id": "be4e54f2-7479-4ba0-924e-3f6c060a3db1",
   "metadata": {},
   "outputs": [],
   "source": [
    "boleano2=False"
   ]
  },
  {
   "cell_type": "code",
   "execution_count": 44,
   "id": "769641a3-3534-4552-af9f-14417e5704ea",
   "metadata": {},
   "outputs": [
    {
     "data": {
      "text/plain": [
       "bool"
      ]
     },
     "execution_count": 44,
     "metadata": {},
     "output_type": "execute_result"
    }
   ],
   "source": [
    "type(boleano1)"
   ]
  },
  {
   "cell_type": "code",
   "execution_count": 50,
   "id": "dd57895d-e6ab-4715-9c30-e587f719674c",
   "metadata": {},
   "outputs": [
    {
     "data": {
      "text/plain": [
       "False"
      ]
     },
     "execution_count": 50,
     "metadata": {},
     "output_type": "execute_result"
    }
   ],
   "source": [
    "7>5 & 7>10"
   ]
  },
  {
   "cell_type": "markdown",
   "id": "5ed535c1-abce-4f5f-a11c-3ab9713ad773",
   "metadata": {},
   "source": [
    "Vamos a sumar -> 5+7"
   ]
  },
  {
   "cell_type": "code",
   "execution_count": 52,
   "id": "2f10993a-c727-481d-b29c-0685d2dafbc1",
   "metadata": {},
   "outputs": [
    {
     "data": {
      "text/plain": [
       "12"
      ]
     },
     "execution_count": 52,
     "metadata": {},
     "output_type": "execute_result"
    }
   ],
   "source": [
    "5+7"
   ]
  },
  {
   "cell_type": "markdown",
   "id": "5d84867d-63e6-4fde-9af5-ae9b8f0f1e16",
   "metadata": {},
   "source": [
    "Resta 10-3"
   ]
  },
  {
   "cell_type": "code",
   "execution_count": 54,
   "id": "24dae1ee-de45-4c13-80c0-3cad65854273",
   "metadata": {},
   "outputs": [
    {
     "data": {
      "text/plain": [
       "7"
      ]
     },
     "execution_count": 54,
     "metadata": {},
     "output_type": "execute_result"
    }
   ],
   "source": [
    "10-3"
   ]
  },
  {
   "cell_type": "markdown",
   "id": "5f9379c9-9773-45c7-8b3f-8be477fd7856",
   "metadata": {},
   "source": [
    "Multiplicación 5*3"
   ]
  },
  {
   "cell_type": "code",
   "execution_count": 56,
   "id": "ed59c115-85e5-4cc5-a8d2-81e70a8551f1",
   "metadata": {},
   "outputs": [
    {
     "data": {
      "text/plain": [
       "15"
      ]
     },
     "execution_count": 56,
     "metadata": {},
     "output_type": "execute_result"
    }
   ],
   "source": [
    "5*3"
   ]
  },
  {
   "cell_type": "markdown",
   "id": "0d3dc148-6520-48c7-979a-f11d809b5d81",
   "metadata": {},
   "source": [
    "División $\\frac{15}{5}$"
   ]
  },
  {
   "cell_type": "code",
   "execution_count": 58,
   "id": "da1528c4-5e75-4610-a73c-b608f5ddba67",
   "metadata": {},
   "outputs": [
    {
     "data": {
      "text/plain": [
       "3.0"
      ]
     },
     "execution_count": 58,
     "metadata": {},
     "output_type": "execute_result"
    }
   ],
   "source": [
    "15/5"
   ]
  },
  {
   "cell_type": "markdown",
   "id": "6aab0c7e-058a-4c03-8833-f358ed6ee086",
   "metadata": {},
   "source": [
    "Elevar a una potencia $a^b$"
   ]
  },
  {
   "cell_type": "markdown",
   "id": "6b9ceb2f-fa61-4ba5-9eb9-8bc388f13884",
   "metadata": {},
   "source": [
    "o bien $a**b$ en código de python;\n",
    "o bien $pow(a,b)$"
   ]
  },
  {
   "cell_type": "code",
   "execution_count": 61,
   "id": "b8f88b23-660c-4dd5-8c61-f837abdc3172",
   "metadata": {},
   "outputs": [
    {
     "data": {
      "text/plain": [
       "9"
      ]
     },
     "execution_count": 61,
     "metadata": {},
     "output_type": "execute_result"
    }
   ],
   "source": [
    "3**2"
   ]
  },
  {
   "cell_type": "code",
   "execution_count": 62,
   "id": "4eeb666e-da2c-4575-8787-49d4ac83ea91",
   "metadata": {},
   "outputs": [
    {
     "data": {
      "text/plain": [
       "9"
      ]
     },
     "execution_count": 62,
     "metadata": {},
     "output_type": "execute_result"
    }
   ],
   "source": [
    "pow(3,2)\n"
   ]
  }
 ],
 "metadata": {
  "kernelspec": {
   "display_name": "Python 3 (ipykernel)",
   "language": "python",
   "name": "python3"
  },
  "language_info": {
   "codemirror_mode": {
    "name": "ipython",
    "version": 3
   },
   "file_extension": ".py",
   "mimetype": "text/x-python",
   "name": "python",
   "nbconvert_exporter": "python",
   "pygments_lexer": "ipython3",
   "version": "3.9.12"
  }
 },
 "nbformat": 4,
 "nbformat_minor": 5
}
