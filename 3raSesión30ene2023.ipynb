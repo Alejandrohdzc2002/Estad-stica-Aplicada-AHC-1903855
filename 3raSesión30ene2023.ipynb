{
 "cells": [
  {
   "cell_type": "markdown",
   "id": "af68ebe2-592b-40da-85b2-d53466d0c3e5",
   "metadata": {},
   "source": [
    "# Estadistica Aplicada\n",
    "## Alejandro Hernández Cerda 1903855\n",
    "### 3ra Sesión\n"
   ]
  },
  {
   "cell_type": "code",
   "execution_count": 2,
   "id": "19ee31d1-d8ea-4a5c-b99d-6e6bfecfdc78",
   "metadata": {},
   "outputs": [],
   "source": [
    "import numpy as np"
   ]
  },
  {
   "cell_type": "code",
   "execution_count": 4,
   "id": "4f1fd63c-4722-48b4-a7d0-aacc0f9a1ce1",
   "metadata": {},
   "outputs": [],
   "source": [
    "np.random.seed(30)\n",
    "aleatorios = np.random.randint(0,20,10)"
   ]
  },
  {
   "cell_type": "code",
   "execution_count": 6,
   "id": "057d415d-c8ef-48c4-b573-c1c9d4ea8dd8",
   "metadata": {},
   "outputs": [],
   "source": [
    "aleatorios = np.sort(aleatorios)"
   ]
  },
  {
   "cell_type": "code",
   "execution_count": 8,
   "id": "8ff54d5d-aca3-42c4-88c3-70f1d5e09872",
   "metadata": {},
   "outputs": [
    {
     "data": {
      "text/plain": [
       "array([ 2,  3,  5,  5,  9, 12, 13, 13, 14, 17])"
      ]
     },
     "execution_count": 8,
     "metadata": {},
     "output_type": "execute_result"
    }
   ],
   "source": [
    "aleatorios"
   ]
  },
  {
   "cell_type": "code",
   "execution_count": 9,
   "id": "d04ef687-a65d-452d-9be0-969dbfb84d73",
   "metadata": {},
   "outputs": [
    {
     "data": {
      "text/plain": [
       "5"
      ]
     },
     "execution_count": 9,
     "metadata": {},
     "output_type": "execute_result"
    }
   ],
   "source": [
    "aleatorios[2]"
   ]
  },
  {
   "cell_type": "code",
   "execution_count": 11,
   "id": "fc46a3fc-a825-44a1-9ef4-b814fdedc6ea",
   "metadata": {},
   "outputs": [
    {
     "data": {
      "text/plain": [
       "array([5, 5])"
      ]
     },
     "execution_count": 11,
     "metadata": {},
     "output_type": "execute_result"
    }
   ],
   "source": [
    "aleatorios[[2,3]]"
   ]
  },
  {
   "cell_type": "code",
   "execution_count": 13,
   "id": "cb77774c-91c7-4fde-bbbe-07e37249a791",
   "metadata": {},
   "outputs": [
    {
     "data": {
      "text/plain": [
       "array([12, 13, 13, 14, 17])"
      ]
     },
     "execution_count": 13,
     "metadata": {},
     "output_type": "execute_result"
    }
   ],
   "source": [
    "aleatorios[aleatorios>10]"
   ]
  },
  {
   "cell_type": "code",
   "execution_count": 30,
   "id": "b42dd2e9-762b-439d-aa21-c7005911fc5f",
   "metadata": {},
   "outputs": [],
   "source": [
    "np.random.seed(315)\n",
    "aleatorios2=np.random.randint(21,50,10)"
   ]
  },
  {
   "cell_type": "code",
   "execution_count": 31,
   "id": "d30e9408-11a6-45e9-82a7-b72f8b979c6b",
   "metadata": {},
   "outputs": [
    {
     "data": {
      "text/plain": [
       "array([30, 24, 30, 23, 44, 23, 31, 40, 24, 35])"
      ]
     },
     "execution_count": 31,
     "metadata": {},
     "output_type": "execute_result"
    }
   ],
   "source": [
    "aleatorios2"
   ]
  },
  {
   "cell_type": "markdown",
   "id": "2016a5f3-6bc6-42c1-97ea-a20d6e04fbf6",
   "metadata": {},
   "source": [
    "**Convertir a aleatorios2 en un arreglo, le vamos a calcular la media y vamos a redondear a un decimal**\n",
    "# FUNCIÓN"
   ]
  },
  {
   "cell_type": "code",
   "execution_count": 32,
   "id": "bf3daf66-e429-436d-a988-da688ddee0b8",
   "metadata": {},
   "outputs": [
    {
     "data": {
      "text/plain": [
       "30.4"
      ]
     },
     "execution_count": 32,
     "metadata": {},
     "output_type": "execute_result"
    }
   ],
   "source": [
    "round(np.mean(np.array(aleatorios2)),1)"
   ]
  },
  {
   "cell_type": "markdown",
   "id": "1a9dd1be-001f-44a0-add2-b17ae3a0064d",
   "metadata": {},
   "source": [
    "**Esto se debe a que estamos tratando de redondear la media del arreglo a un decimal, por eso el ,1**\n",
    "# MÉTODO"
   ]
  },
  {
   "cell_type": "code",
   "execution_count": 33,
   "id": "2dffd8de-f847-4c81-8a0c-ebee0f98f0a9",
   "metadata": {},
   "outputs": [
    {
     "data": {
      "text/plain": [
       "30.4"
      ]
     },
     "execution_count": 33,
     "metadata": {},
     "output_type": "execute_result"
    }
   ],
   "source": [
    "np.array(aleatorios2).mean().round(1)"
   ]
  },
  {
   "cell_type": "markdown",
   "id": "cf39769b-ce2e-4e91-a554-7e5d13ecfb85",
   "metadata": {},
   "source": [
    "# FUNCIONES\n",
    "**np.mean()\n",
    "np.sum()\n",
    "np.var()\n",
    "np.var(,ddof)\n",
    "np.prod()\n",
    "np.std()\n",
    "np.arange()**"
   ]
  },
  {
   "cell_type": "markdown",
   "id": "ff21ceb3-e18f-4f61-a7b7-182526c95a52",
   "metadata": {},
   "source": [
    "# TUPLAS"
   ]
  },
  {
   "cell_type": "code",
   "execution_count": 34,
   "id": "40594251-e716-4713-ab3b-98597a30e128",
   "metadata": {},
   "outputs": [],
   "source": [
    "Tupla1 = (23,45,\"libro\")"
   ]
  },
  {
   "cell_type": "code",
   "execution_count": 35,
   "id": "0aa4dd64-92e7-42b8-afc2-06291b23eada",
   "metadata": {},
   "outputs": [
    {
     "data": {
      "text/plain": [
       "tuple"
      ]
     },
     "execution_count": 35,
     "metadata": {},
     "output_type": "execute_result"
    }
   ],
   "source": [
    "type(Tupla1)"
   ]
  },
  {
   "cell_type": "code",
   "execution_count": 36,
   "id": "d4d4cd87-597f-429f-b564-8c3b8740bbc7",
   "metadata": {},
   "outputs": [
    {
     "data": {
      "text/plain": [
       "'libro'"
      ]
     },
     "execution_count": 36,
     "metadata": {},
     "output_type": "execute_result"
    }
   ],
   "source": [
    "Tupla1[2]"
   ]
  },
  {
   "cell_type": "markdown",
   "id": "3de3a5ff-5203-4dd1-952a-39e2938893df",
   "metadata": {},
   "source": [
    "# Diccionarios"
   ]
  },
  {
   "cell_type": "code",
   "execution_count": 44,
   "id": "589ca4b7-89d9-479c-a52b-95cd0b489ece",
   "metadata": {},
   "outputs": [],
   "source": [
    "alumno1_dic={'Nombre':'Juan','Apellido':'Perez','Edad':23}"
   ]
  },
  {
   "cell_type": "code",
   "execution_count": 45,
   "id": "f33aa7fa-69e5-4bf4-8083-522d691c4ba1",
   "metadata": {},
   "outputs": [
    {
     "data": {
      "text/plain": [
       "dict"
      ]
     },
     "execution_count": 45,
     "metadata": {},
     "output_type": "execute_result"
    }
   ],
   "source": [
    "type(alumno_dic)"
   ]
  },
  {
   "cell_type": "code",
   "execution_count": 46,
   "id": "e541ddf8-3813-4ef8-ad18-b8d101949bb3",
   "metadata": {},
   "outputs": [
    {
     "data": {
      "text/plain": [
       "{'Nombre': 'Juan', 'Apellido': 'Perez', 'Edad': 23}"
      ]
     },
     "execution_count": 46,
     "metadata": {},
     "output_type": "execute_result"
    }
   ],
   "source": [
    "alumno1_dic"
   ]
  },
  {
   "cell_type": "code",
   "execution_count": 47,
   "id": "b32335f3-22e3-4453-af69-44ccae53407c",
   "metadata": {},
   "outputs": [
    {
     "data": {
      "text/plain": [
       "'Juan'"
      ]
     },
     "execution_count": 47,
     "metadata": {},
     "output_type": "execute_result"
    }
   ],
   "source": [
    "alumno1_dic['Nombre']"
   ]
  },
  {
   "cell_type": "code",
   "execution_count": 48,
   "id": "e801656a-4954-4165-806d-503dc720ec67",
   "metadata": {},
   "outputs": [
    {
     "data": {
      "text/plain": [
       "'Perez'"
      ]
     },
     "execution_count": 48,
     "metadata": {},
     "output_type": "execute_result"
    }
   ],
   "source": [
    "alumno1_dic['Apellido']"
   ]
  },
  {
   "cell_type": "code",
   "execution_count": 49,
   "id": "04c699d1-309e-44be-b1ad-723c62f5d9f0",
   "metadata": {},
   "outputs": [],
   "source": [
    "estadistica_g5={'Nombre':['Ale','Jaime','Teo'],'Apellido':['Leos','Lara','Leal'],\n",
    "                'Edad':[23,28,17]}"
   ]
  },
  {
   "cell_type": "code",
   "execution_count": 50,
   "id": "d931ce00-78de-457c-8e99-273434c16123",
   "metadata": {},
   "outputs": [
    {
     "data": {
      "text/plain": [
       "['Ale', 'Jaime', 'Teo']"
      ]
     },
     "execution_count": 50,
     "metadata": {},
     "output_type": "execute_result"
    }
   ],
   "source": [
    "estadistica_g5['Nombre']"
   ]
  },
  {
   "cell_type": "code",
   "execution_count": 53,
   "id": "7c2dd584-d407-4259-a3bb-1a3f106a2ffe",
   "metadata": {},
   "outputs": [
    {
     "data": {
      "text/plain": [
       "dict_keys(['Nombre', 'Apellido', 'Edad'])"
      ]
     },
     "execution_count": 53,
     "metadata": {},
     "output_type": "execute_result"
    }
   ],
   "source": [
    "estadistica_g5.keys()"
   ]
  },
  {
   "cell_type": "code",
   "execution_count": 54,
   "id": "81ea235a-5d65-419f-a1c6-ccd23f0bc23a",
   "metadata": {},
   "outputs": [
    {
     "data": {
      "text/plain": [
       "dict_values([['Ale', 'Jaime', 'Teo'], ['Leos', 'Lara', 'Leal'], [23, 28, 17]])"
      ]
     },
     "execution_count": 54,
     "metadata": {},
     "output_type": "execute_result"
    }
   ],
   "source": [
    "estadistica_g5.values()"
   ]
  },
  {
   "cell_type": "markdown",
   "id": "047fb0e7-5537-4fb0-be63-74ece9149709",
   "metadata": {},
   "source": [
    "# PANDAS\n",
    "## DATAFRAMES"
   ]
  },
  {
   "cell_type": "code",
   "execution_count": 55,
   "id": "d2cdda85-19b2-470e-be54-44716f199f73",
   "metadata": {},
   "outputs": [],
   "source": [
    "import pandas as pd"
   ]
  },
  {
   "cell_type": "code",
   "execution_count": 56,
   "id": "cfb69d65-61be-47e3-9de5-cb975443e508",
   "metadata": {},
   "outputs": [],
   "source": [
    "alumno1 = ['Juan', 'Pérez', 23]\n",
    "alumno2 = ['Raúl', 'González', 17]\n",
    "alumno3 = ['Jimena', 'Rosas', 20]\n",
    "alumno4 = ['Alejandra', 'Saldaña', 21]"
   ]
  },
  {
   "cell_type": "code",
   "execution_count": 57,
   "id": "58da2deb-74c5-4193-84f6-49e684a124c2",
   "metadata": {},
   "outputs": [],
   "source": [
    "clase_estadistica=[alumno1,alumno2,alumno3,alumno4]"
   ]
  },
  {
   "cell_type": "code",
   "execution_count": 58,
   "id": "89380b5f-5699-4696-a353-7b1b4f1dd0c4",
   "metadata": {},
   "outputs": [
    {
     "data": {
      "text/plain": [
       "[['Juan', 'Pérez', 23],\n",
       " ['Raúl', 'González', 17],\n",
       " ['Jimena', 'Rosas', 20],\n",
       " ['Alejandra', 'Saldaña', 21]]"
      ]
     },
     "execution_count": 58,
     "metadata": {},
     "output_type": "execute_result"
    }
   ],
   "source": [
    "clase_estadistica"
   ]
  },
  {
   "cell_type": "code",
   "execution_count": 65,
   "id": "ace46d99-e38e-483a-909a-fccba9df67fc",
   "metadata": {},
   "outputs": [],
   "source": [
    "clase_estadistica=pd.DataFrame(clase_estadistica,columns = [\"Nombre\",\"Apellido\",\"Edad\"])"
   ]
  },
  {
   "cell_type": "code",
   "execution_count": 66,
   "id": "9948f4f7-ade0-49e6-912f-f1d025d5a8aa",
   "metadata": {},
   "outputs": [],
   "source": [
    "clase_estadistica['Edad en días']=clase_estadistica['Edad']*365"
   ]
  },
  {
   "cell_type": "code",
   "execution_count": 67,
   "id": "7cc4e391-9a57-4a8f-baeb-1c8fd995b49f",
   "metadata": {},
   "outputs": [
    {
     "data": {
      "text/html": [
       "<div>\n",
       "<style scoped>\n",
       "    .dataframe tbody tr th:only-of-type {\n",
       "        vertical-align: middle;\n",
       "    }\n",
       "\n",
       "    .dataframe tbody tr th {\n",
       "        vertical-align: top;\n",
       "    }\n",
       "\n",
       "    .dataframe thead th {\n",
       "        text-align: right;\n",
       "    }\n",
       "</style>\n",
       "<table border=\"1\" class=\"dataframe\">\n",
       "  <thead>\n",
       "    <tr style=\"text-align: right;\">\n",
       "      <th></th>\n",
       "      <th>Nombre</th>\n",
       "      <th>Apellido</th>\n",
       "      <th>Edad</th>\n",
       "      <th>Edad en días</th>\n",
       "    </tr>\n",
       "  </thead>\n",
       "  <tbody>\n",
       "    <tr>\n",
       "      <th>0</th>\n",
       "      <td>Juan</td>\n",
       "      <td>Pérez</td>\n",
       "      <td>23</td>\n",
       "      <td>8395</td>\n",
       "    </tr>\n",
       "    <tr>\n",
       "      <th>1</th>\n",
       "      <td>Raúl</td>\n",
       "      <td>González</td>\n",
       "      <td>17</td>\n",
       "      <td>6205</td>\n",
       "    </tr>\n",
       "    <tr>\n",
       "      <th>2</th>\n",
       "      <td>Jimena</td>\n",
       "      <td>Rosas</td>\n",
       "      <td>20</td>\n",
       "      <td>7300</td>\n",
       "    </tr>\n",
       "    <tr>\n",
       "      <th>3</th>\n",
       "      <td>Alejandra</td>\n",
       "      <td>Saldaña</td>\n",
       "      <td>21</td>\n",
       "      <td>7665</td>\n",
       "    </tr>\n",
       "  </tbody>\n",
       "</table>\n",
       "</div>"
      ],
      "text/plain": [
       "      Nombre  Apellido  Edad  Edad en días\n",
       "0       Juan     Pérez    23          8395\n",
       "1       Raúl  González    17          6205\n",
       "2     Jimena     Rosas    20          7300\n",
       "3  Alejandra   Saldaña    21          7665"
      ]
     },
     "execution_count": 67,
     "metadata": {},
     "output_type": "execute_result"
    }
   ],
   "source": [
    "clase_estadistica"
   ]
  },
  {
   "cell_type": "code",
   "execution_count": 68,
   "id": "1c7928ca-d63c-4493-8af5-27daf200bae6",
   "metadata": {},
   "outputs": [],
   "source": [
    "clase_estadistica['Estado de origen'] = ['Zacatecas','Nuevo Leon','Tamaulipas','Sinaloa']"
   ]
  },
  {
   "cell_type": "code",
   "execution_count": 69,
   "id": "8863975f-a804-4ab6-b53c-cbd4d430eecf",
   "metadata": {},
   "outputs": [
    {
     "data": {
      "text/html": [
       "<div>\n",
       "<style scoped>\n",
       "    .dataframe tbody tr th:only-of-type {\n",
       "        vertical-align: middle;\n",
       "    }\n",
       "\n",
       "    .dataframe tbody tr th {\n",
       "        vertical-align: top;\n",
       "    }\n",
       "\n",
       "    .dataframe thead th {\n",
       "        text-align: right;\n",
       "    }\n",
       "</style>\n",
       "<table border=\"1\" class=\"dataframe\">\n",
       "  <thead>\n",
       "    <tr style=\"text-align: right;\">\n",
       "      <th></th>\n",
       "      <th>Nombre</th>\n",
       "      <th>Apellido</th>\n",
       "      <th>Edad</th>\n",
       "      <th>Edad en días</th>\n",
       "      <th>Estado de origen</th>\n",
       "    </tr>\n",
       "  </thead>\n",
       "  <tbody>\n",
       "    <tr>\n",
       "      <th>0</th>\n",
       "      <td>Juan</td>\n",
       "      <td>Pérez</td>\n",
       "      <td>23</td>\n",
       "      <td>8395</td>\n",
       "      <td>Zacatecas</td>\n",
       "    </tr>\n",
       "    <tr>\n",
       "      <th>1</th>\n",
       "      <td>Raúl</td>\n",
       "      <td>González</td>\n",
       "      <td>17</td>\n",
       "      <td>6205</td>\n",
       "      <td>Nuevo Leon</td>\n",
       "    </tr>\n",
       "    <tr>\n",
       "      <th>2</th>\n",
       "      <td>Jimena</td>\n",
       "      <td>Rosas</td>\n",
       "      <td>20</td>\n",
       "      <td>7300</td>\n",
       "      <td>Tamaulipas</td>\n",
       "    </tr>\n",
       "    <tr>\n",
       "      <th>3</th>\n",
       "      <td>Alejandra</td>\n",
       "      <td>Saldaña</td>\n",
       "      <td>21</td>\n",
       "      <td>7665</td>\n",
       "      <td>Sinaloa</td>\n",
       "    </tr>\n",
       "  </tbody>\n",
       "</table>\n",
       "</div>"
      ],
      "text/plain": [
       "      Nombre  Apellido  Edad  Edad en días Estado de origen\n",
       "0       Juan     Pérez    23          8395        Zacatecas\n",
       "1       Raúl  González    17          6205       Nuevo Leon\n",
       "2     Jimena     Rosas    20          7300       Tamaulipas\n",
       "3  Alejandra   Saldaña    21          7665          Sinaloa"
      ]
     },
     "execution_count": 69,
     "metadata": {},
     "output_type": "execute_result"
    }
   ],
   "source": [
    "clase_estadistica"
   ]
  },
  {
   "cell_type": "code",
   "execution_count": 73,
   "id": "a74bcddb-68e9-42c9-b7e6-b6c7a599e560",
   "metadata": {},
   "outputs": [
    {
     "data": {
      "text/plain": [
       "0       Pérez\n",
       "1    González\n",
       "2       Rosas\n",
       "3     Saldaña\n",
       "Name: Apellido, dtype: object"
      ]
     },
     "execution_count": 73,
     "metadata": {},
     "output_type": "execute_result"
    }
   ],
   "source": [
    "clase_estadistica['Apellido']"
   ]
  },
  {
   "cell_type": "code",
   "execution_count": 74,
   "id": "53aa67b1-a89e-4d03-ac68-905fd170373a",
   "metadata": {},
   "outputs": [
    {
     "data": {
      "text/html": [
       "<div>\n",
       "<style scoped>\n",
       "    .dataframe tbody tr th:only-of-type {\n",
       "        vertical-align: middle;\n",
       "    }\n",
       "\n",
       "    .dataframe tbody tr th {\n",
       "        vertical-align: top;\n",
       "    }\n",
       "\n",
       "    .dataframe thead th {\n",
       "        text-align: right;\n",
       "    }\n",
       "</style>\n",
       "<table border=\"1\" class=\"dataframe\">\n",
       "  <thead>\n",
       "    <tr style=\"text-align: right;\">\n",
       "      <th></th>\n",
       "      <th>Apellido</th>\n",
       "      <th>Edad</th>\n",
       "    </tr>\n",
       "  </thead>\n",
       "  <tbody>\n",
       "    <tr>\n",
       "      <th>0</th>\n",
       "      <td>Pérez</td>\n",
       "      <td>23</td>\n",
       "    </tr>\n",
       "    <tr>\n",
       "      <th>1</th>\n",
       "      <td>González</td>\n",
       "      <td>17</td>\n",
       "    </tr>\n",
       "    <tr>\n",
       "      <th>2</th>\n",
       "      <td>Rosas</td>\n",
       "      <td>20</td>\n",
       "    </tr>\n",
       "    <tr>\n",
       "      <th>3</th>\n",
       "      <td>Saldaña</td>\n",
       "      <td>21</td>\n",
       "    </tr>\n",
       "  </tbody>\n",
       "</table>\n",
       "</div>"
      ],
      "text/plain": [
       "   Apellido  Edad\n",
       "0     Pérez    23\n",
       "1  González    17\n",
       "2     Rosas    20\n",
       "3   Saldaña    21"
      ]
     },
     "execution_count": 74,
     "metadata": {},
     "output_type": "execute_result"
    }
   ],
   "source": [
    "clase_estadistica[['Apellido','Edad']]"
   ]
  },
  {
   "cell_type": "code",
   "execution_count": 79,
   "id": "7cb0d0a1-3b31-4a66-9383-aa3893843f1e",
   "metadata": {},
   "outputs": [
    {
     "data": {
      "text/html": [
       "<div>\n",
       "<style scoped>\n",
       "    .dataframe tbody tr th:only-of-type {\n",
       "        vertical-align: middle;\n",
       "    }\n",
       "\n",
       "    .dataframe tbody tr th {\n",
       "        vertical-align: top;\n",
       "    }\n",
       "\n",
       "    .dataframe thead th {\n",
       "        text-align: right;\n",
       "    }\n",
       "</style>\n",
       "<table border=\"1\" class=\"dataframe\">\n",
       "  <thead>\n",
       "    <tr style=\"text-align: right;\">\n",
       "      <th></th>\n",
       "      <th>Nombre</th>\n",
       "      <th>Apellido</th>\n",
       "      <th>Edad</th>\n",
       "      <th>Edad en días</th>\n",
       "      <th>Estado de origen</th>\n",
       "    </tr>\n",
       "  </thead>\n",
       "  <tbody>\n",
       "    <tr>\n",
       "      <th>0</th>\n",
       "      <td>Juan</td>\n",
       "      <td>Pérez</td>\n",
       "      <td>23</td>\n",
       "      <td>8395</td>\n",
       "      <td>Zacatecas</td>\n",
       "    </tr>\n",
       "    <tr>\n",
       "      <th>1</th>\n",
       "      <td>Raúl</td>\n",
       "      <td>González</td>\n",
       "      <td>17</td>\n",
       "      <td>6205</td>\n",
       "      <td>Nuevo Leon</td>\n",
       "    </tr>\n",
       "  </tbody>\n",
       "</table>\n",
       "</div>"
      ],
      "text/plain": [
       "  Nombre  Apellido  Edad  Edad en días Estado de origen\n",
       "0   Juan     Pérez    23          8395        Zacatecas\n",
       "1   Raúl  González    17          6205       Nuevo Leon"
      ]
     },
     "execution_count": 79,
     "metadata": {},
     "output_type": "execute_result"
    }
   ],
   "source": [
    "clase_estadistica[0:2]"
   ]
  },
  {
   "cell_type": "code",
   "execution_count": 80,
   "id": "deb48006-5fef-4ab5-aca1-da515a074101",
   "metadata": {},
   "outputs": [
    {
     "data": {
      "text/html": [
       "<div>\n",
       "<style scoped>\n",
       "    .dataframe tbody tr th:only-of-type {\n",
       "        vertical-align: middle;\n",
       "    }\n",
       "\n",
       "    .dataframe tbody tr th {\n",
       "        vertical-align: top;\n",
       "    }\n",
       "\n",
       "    .dataframe thead th {\n",
       "        text-align: right;\n",
       "    }\n",
       "</style>\n",
       "<table border=\"1\" class=\"dataframe\">\n",
       "  <thead>\n",
       "    <tr style=\"text-align: right;\">\n",
       "      <th></th>\n",
       "      <th>Apellido</th>\n",
       "      <th>Edad</th>\n",
       "    </tr>\n",
       "  </thead>\n",
       "  <tbody>\n",
       "    <tr>\n",
       "      <th>0</th>\n",
       "      <td>Pérez</td>\n",
       "      <td>23</td>\n",
       "    </tr>\n",
       "    <tr>\n",
       "      <th>1</th>\n",
       "      <td>González</td>\n",
       "      <td>17</td>\n",
       "    </tr>\n",
       "  </tbody>\n",
       "</table>\n",
       "</div>"
      ],
      "text/plain": [
       "   Apellido  Edad\n",
       "0     Pérez    23\n",
       "1  González    17"
      ]
     },
     "execution_count": 80,
     "metadata": {},
     "output_type": "execute_result"
    }
   ],
   "source": [
    "clase_estadistica[0:2][['Apellido','Edad']]"
   ]
  },
  {
   "cell_type": "markdown",
   "id": "bddc3846-4437-4c1e-b990-d71512623982",
   "metadata": {},
   "source": [
    "## .iloc [Filas][Columnas]"
   ]
  },
  {
   "cell_type": "code",
   "execution_count": 85,
   "id": "683c6a19-beb6-40df-a2af-df0b812a6943",
   "metadata": {},
   "outputs": [
    {
     "data": {
      "text/plain": [
       "0    23\n",
       "1    17\n",
       "2    20\n",
       "3    21\n",
       "Name: Edad, dtype: int64"
      ]
     },
     "execution_count": 85,
     "metadata": {},
     "output_type": "execute_result"
    }
   ],
   "source": [
    "clase_estadistica.iloc[:,2]"
   ]
  },
  {
   "cell_type": "code",
   "execution_count": 87,
   "id": "3d7e7397-5359-49ee-a932-fd7446fd648c",
   "metadata": {},
   "outputs": [
    {
     "data": {
      "text/html": [
       "<div>\n",
       "<style scoped>\n",
       "    .dataframe tbody tr th:only-of-type {\n",
       "        vertical-align: middle;\n",
       "    }\n",
       "\n",
       "    .dataframe tbody tr th {\n",
       "        vertical-align: top;\n",
       "    }\n",
       "\n",
       "    .dataframe thead th {\n",
       "        text-align: right;\n",
       "    }\n",
       "</style>\n",
       "<table border=\"1\" class=\"dataframe\">\n",
       "  <thead>\n",
       "    <tr style=\"text-align: right;\">\n",
       "      <th></th>\n",
       "      <th>Nombre</th>\n",
       "      <th>Edad</th>\n",
       "    </tr>\n",
       "  </thead>\n",
       "  <tbody>\n",
       "    <tr>\n",
       "      <th>0</th>\n",
       "      <td>Juan</td>\n",
       "      <td>23</td>\n",
       "    </tr>\n",
       "    <tr>\n",
       "      <th>1</th>\n",
       "      <td>Raúl</td>\n",
       "      <td>17</td>\n",
       "    </tr>\n",
       "  </tbody>\n",
       "</table>\n",
       "</div>"
      ],
      "text/plain": [
       "  Nombre  Edad\n",
       "0   Juan    23\n",
       "1   Raúl    17"
      ]
     },
     "execution_count": 87,
     "metadata": {},
     "output_type": "execute_result"
    }
   ],
   "source": [
    "clase_estadistica.iloc[0:2,[0,2]]"
   ]
  },
  {
   "cell_type": "code",
   "execution_count": 87,
   "id": "f2bee3ff-9eeb-47af-a517-9115b006cd9f",
   "metadata": {},
   "outputs": [
    {
     "data": {
      "text/html": [
       "<div>\n",
       "<style scoped>\n",
       "    .dataframe tbody tr th:only-of-type {\n",
       "        vertical-align: middle;\n",
       "    }\n",
       "\n",
       "    .dataframe tbody tr th {\n",
       "        vertical-align: top;\n",
       "    }\n",
       "\n",
       "    .dataframe thead th {\n",
       "        text-align: right;\n",
       "    }\n",
       "</style>\n",
       "<table border=\"1\" class=\"dataframe\">\n",
       "  <thead>\n",
       "    <tr style=\"text-align: right;\">\n",
       "      <th></th>\n",
       "      <th>Nombre</th>\n",
       "      <th>Edad</th>\n",
       "    </tr>\n",
       "  </thead>\n",
       "  <tbody>\n",
       "    <tr>\n",
       "      <th>0</th>\n",
       "      <td>Juan</td>\n",
       "      <td>23</td>\n",
       "    </tr>\n",
       "    <tr>\n",
       "      <th>1</th>\n",
       "      <td>Raúl</td>\n",
       "      <td>17</td>\n",
       "    </tr>\n",
       "  </tbody>\n",
       "</table>\n",
       "</div>"
      ],
      "text/plain": [
       "  Nombre  Edad\n",
       "0   Juan    23\n",
       "1   Raúl    17"
      ]
     },
     "execution_count": 87,
     "metadata": {},
     "output_type": "execute_result"
    }
   ],
   "source": [
    "clase_estadistica.iloc[0:2,[0,2]]"
   ]
  },
  {
   "cell_type": "markdown",
   "id": "7614cfcd-eb91-4dfd-9fcb-057836ab216f",
   "metadata": {},
   "source": [
    "## .loc [Etiqueta/Nombre]"
   ]
  },
  {
   "cell_type": "code",
   "execution_count": 88,
   "id": "60d0d6bd-94fb-4008-9f5a-9706cf1cc30b",
   "metadata": {},
   "outputs": [
    {
     "data": {
      "text/plain": [
       "0    23\n",
       "1    17\n",
       "2    20\n",
       "3    21\n",
       "Name: Edad, dtype: int64"
      ]
     },
     "execution_count": 88,
     "metadata": {},
     "output_type": "execute_result"
    }
   ],
   "source": [
    "clase_estadistica.loc[:,'Edad']"
   ]
  },
  {
   "cell_type": "code",
   "execution_count": 90,
   "id": "42d8a794-aefa-40f3-b02b-525ddbc0300f",
   "metadata": {},
   "outputs": [
    {
     "data": {
      "text/html": [
       "<div>\n",
       "<style scoped>\n",
       "    .dataframe tbody tr th:only-of-type {\n",
       "        vertical-align: middle;\n",
       "    }\n",
       "\n",
       "    .dataframe tbody tr th {\n",
       "        vertical-align: top;\n",
       "    }\n",
       "\n",
       "    .dataframe thead th {\n",
       "        text-align: right;\n",
       "    }\n",
       "</style>\n",
       "<table border=\"1\" class=\"dataframe\">\n",
       "  <thead>\n",
       "    <tr style=\"text-align: right;\">\n",
       "      <th></th>\n",
       "      <th>Edad</th>\n",
       "      <th>Nombre</th>\n",
       "    </tr>\n",
       "  </thead>\n",
       "  <tbody>\n",
       "    <tr>\n",
       "      <th>0</th>\n",
       "      <td>23</td>\n",
       "      <td>Juan</td>\n",
       "    </tr>\n",
       "    <tr>\n",
       "      <th>1</th>\n",
       "      <td>17</td>\n",
       "      <td>Raúl</td>\n",
       "    </tr>\n",
       "    <tr>\n",
       "      <th>2</th>\n",
       "      <td>20</td>\n",
       "      <td>Jimena</td>\n",
       "    </tr>\n",
       "    <tr>\n",
       "      <th>3</th>\n",
       "      <td>21</td>\n",
       "      <td>Alejandra</td>\n",
       "    </tr>\n",
       "  </tbody>\n",
       "</table>\n",
       "</div>"
      ],
      "text/plain": [
       "   Edad     Nombre\n",
       "0    23       Juan\n",
       "1    17       Raúl\n",
       "2    20     Jimena\n",
       "3    21  Alejandra"
      ]
     },
     "execution_count": 90,
     "metadata": {},
     "output_type": "execute_result"
    }
   ],
   "source": [
    "clase_estadistica.loc[:,['Edad','Nombre']]"
   ]
  },
  {
   "cell_type": "markdown",
   "id": "c8151de2-2b5a-489e-a9d7-e38a3e92b277",
   "metadata": {},
   "source": [
    "## SQL"
   ]
  },
  {
   "cell_type": "code",
   "execution_count": 91,
   "id": "1233d900-e7fb-4197-b7a5-09164b191ecd",
   "metadata": {},
   "outputs": [
    {
     "data": {
      "text/plain": [
       "0    23\n",
       "1    17\n",
       "2    20\n",
       "3    21\n",
       "Name: Edad, dtype: int64"
      ]
     },
     "execution_count": 91,
     "metadata": {},
     "output_type": "execute_result"
    }
   ],
   "source": [
    "clase_estadistica.Edad"
   ]
  },
  {
   "cell_type": "markdown",
   "id": "f88c6321-d9d6-4649-86fb-0e26ebe2cf7b",
   "metadata": {},
   "source": [
    "## Por condicionales"
   ]
  },
  {
   "cell_type": "code",
   "execution_count": 92,
   "id": "8a0b8862-0f8f-40da-be5f-4a1af8c61626",
   "metadata": {},
   "outputs": [
    {
     "data": {
      "text/html": [
       "<div>\n",
       "<style scoped>\n",
       "    .dataframe tbody tr th:only-of-type {\n",
       "        vertical-align: middle;\n",
       "    }\n",
       "\n",
       "    .dataframe tbody tr th {\n",
       "        vertical-align: top;\n",
       "    }\n",
       "\n",
       "    .dataframe thead th {\n",
       "        text-align: right;\n",
       "    }\n",
       "</style>\n",
       "<table border=\"1\" class=\"dataframe\">\n",
       "  <thead>\n",
       "    <tr style=\"text-align: right;\">\n",
       "      <th></th>\n",
       "      <th>Nombre</th>\n",
       "      <th>Apellido</th>\n",
       "      <th>Edad</th>\n",
       "      <th>Edad en días</th>\n",
       "      <th>Estado de origen</th>\n",
       "    </tr>\n",
       "  </thead>\n",
       "  <tbody>\n",
       "    <tr>\n",
       "      <th>0</th>\n",
       "      <td>Juan</td>\n",
       "      <td>Pérez</td>\n",
       "      <td>23</td>\n",
       "      <td>8395</td>\n",
       "      <td>Zacatecas</td>\n",
       "    </tr>\n",
       "    <tr>\n",
       "      <th>2</th>\n",
       "      <td>Jimena</td>\n",
       "      <td>Rosas</td>\n",
       "      <td>20</td>\n",
       "      <td>7300</td>\n",
       "      <td>Tamaulipas</td>\n",
       "    </tr>\n",
       "    <tr>\n",
       "      <th>3</th>\n",
       "      <td>Alejandra</td>\n",
       "      <td>Saldaña</td>\n",
       "      <td>21</td>\n",
       "      <td>7665</td>\n",
       "      <td>Sinaloa</td>\n",
       "    </tr>\n",
       "  </tbody>\n",
       "</table>\n",
       "</div>"
      ],
      "text/plain": [
       "      Nombre Apellido  Edad  Edad en días Estado de origen\n",
       "0       Juan    Pérez    23          8395        Zacatecas\n",
       "2     Jimena    Rosas    20          7300       Tamaulipas\n",
       "3  Alejandra  Saldaña    21          7665          Sinaloa"
      ]
     },
     "execution_count": 92,
     "metadata": {},
     "output_type": "execute_result"
    }
   ],
   "source": [
    "clase_estadistica[clase_estadistica['Edad']>=18]"
   ]
  },
  {
   "cell_type": "markdown",
   "id": "22989ef6-14df-4ca8-a21b-ce58faae3621",
   "metadata": {},
   "source": [
    "## Ordenar DataFrame"
   ]
  },
  {
   "cell_type": "code",
   "execution_count": 95,
   "id": "a7b35d27-c3ca-46e6-9294-2ee5bc371a35",
   "metadata": {},
   "outputs": [
    {
     "data": {
      "text/html": [
       "<div>\n",
       "<style scoped>\n",
       "    .dataframe tbody tr th:only-of-type {\n",
       "        vertical-align: middle;\n",
       "    }\n",
       "\n",
       "    .dataframe tbody tr th {\n",
       "        vertical-align: top;\n",
       "    }\n",
       "\n",
       "    .dataframe thead th {\n",
       "        text-align: right;\n",
       "    }\n",
       "</style>\n",
       "<table border=\"1\" class=\"dataframe\">\n",
       "  <thead>\n",
       "    <tr style=\"text-align: right;\">\n",
       "      <th></th>\n",
       "      <th>Nombre</th>\n",
       "      <th>Apellido</th>\n",
       "      <th>Edad</th>\n",
       "      <th>Edad en días</th>\n",
       "      <th>Estado de origen</th>\n",
       "    </tr>\n",
       "  </thead>\n",
       "  <tbody>\n",
       "    <tr>\n",
       "      <th>1</th>\n",
       "      <td>Raúl</td>\n",
       "      <td>González</td>\n",
       "      <td>17</td>\n",
       "      <td>6205</td>\n",
       "      <td>Nuevo Leon</td>\n",
       "    </tr>\n",
       "    <tr>\n",
       "      <th>2</th>\n",
       "      <td>Jimena</td>\n",
       "      <td>Rosas</td>\n",
       "      <td>20</td>\n",
       "      <td>7300</td>\n",
       "      <td>Tamaulipas</td>\n",
       "    </tr>\n",
       "    <tr>\n",
       "      <th>3</th>\n",
       "      <td>Alejandra</td>\n",
       "      <td>Saldaña</td>\n",
       "      <td>21</td>\n",
       "      <td>7665</td>\n",
       "      <td>Sinaloa</td>\n",
       "    </tr>\n",
       "    <tr>\n",
       "      <th>0</th>\n",
       "      <td>Juan</td>\n",
       "      <td>Pérez</td>\n",
       "      <td>23</td>\n",
       "      <td>8395</td>\n",
       "      <td>Zacatecas</td>\n",
       "    </tr>\n",
       "  </tbody>\n",
       "</table>\n",
       "</div>"
      ],
      "text/plain": [
       "      Nombre  Apellido  Edad  Edad en días Estado de origen\n",
       "1       Raúl  González    17          6205       Nuevo Leon\n",
       "2     Jimena     Rosas    20          7300       Tamaulipas\n",
       "3  Alejandra   Saldaña    21          7665          Sinaloa\n",
       "0       Juan     Pérez    23          8395        Zacatecas"
      ]
     },
     "execution_count": 95,
     "metadata": {},
     "output_type": "execute_result"
    }
   ],
   "source": [
    "clase_estadistica.sort_values('Edad',ascending=True)"
   ]
  },
  {
   "cell_type": "code",
   "execution_count": 98,
   "id": "53185d49-aeaf-474b-ad30-4a8dc31ebc84",
   "metadata": {},
   "outputs": [
    {
     "data": {
      "text/html": [
       "<div>\n",
       "<style scoped>\n",
       "    .dataframe tbody tr th:only-of-type {\n",
       "        vertical-align: middle;\n",
       "    }\n",
       "\n",
       "    .dataframe tbody tr th {\n",
       "        vertical-align: top;\n",
       "    }\n",
       "\n",
       "    .dataframe thead th {\n",
       "        text-align: right;\n",
       "    }\n",
       "</style>\n",
       "<table border=\"1\" class=\"dataframe\">\n",
       "  <thead>\n",
       "    <tr style=\"text-align: right;\">\n",
       "      <th></th>\n",
       "      <th>Nombre</th>\n",
       "      <th>Apellido</th>\n",
       "      <th>Edad</th>\n",
       "      <th>Edad en días</th>\n",
       "      <th>Estado de origen</th>\n",
       "    </tr>\n",
       "  </thead>\n",
       "  <tbody>\n",
       "    <tr>\n",
       "      <th>1</th>\n",
       "      <td>Raúl</td>\n",
       "      <td>González</td>\n",
       "      <td>17</td>\n",
       "      <td>6205</td>\n",
       "      <td>Nuevo Leon</td>\n",
       "    </tr>\n",
       "    <tr>\n",
       "      <th>0</th>\n",
       "      <td>Juan</td>\n",
       "      <td>Pérez</td>\n",
       "      <td>23</td>\n",
       "      <td>8395</td>\n",
       "      <td>Zacatecas</td>\n",
       "    </tr>\n",
       "    <tr>\n",
       "      <th>2</th>\n",
       "      <td>Jimena</td>\n",
       "      <td>Rosas</td>\n",
       "      <td>20</td>\n",
       "      <td>7300</td>\n",
       "      <td>Tamaulipas</td>\n",
       "    </tr>\n",
       "    <tr>\n",
       "      <th>3</th>\n",
       "      <td>Alejandra</td>\n",
       "      <td>Saldaña</td>\n",
       "      <td>21</td>\n",
       "      <td>7665</td>\n",
       "      <td>Sinaloa</td>\n",
       "    </tr>\n",
       "  </tbody>\n",
       "</table>\n",
       "</div>"
      ],
      "text/plain": [
       "      Nombre  Apellido  Edad  Edad en días Estado de origen\n",
       "1       Raúl  González    17          6205       Nuevo Leon\n",
       "0       Juan     Pérez    23          8395        Zacatecas\n",
       "2     Jimena     Rosas    20          7300       Tamaulipas\n",
       "3  Alejandra   Saldaña    21          7665          Sinaloa"
      ]
     },
     "execution_count": 98,
     "metadata": {},
     "output_type": "execute_result"
    }
   ],
   "source": [
    "clase_estadistica.sort_values(['Apellido','Nombre'],ascending=[True,True])"
   ]
  },
  {
   "cell_type": "code",
   "execution_count": 99,
   "id": "45aacd47-967a-4d4c-b044-38d79afabd49",
   "metadata": {},
   "outputs": [
    {
     "data": {
      "text/plain": [
       "20.25"
      ]
     },
     "execution_count": 99,
     "metadata": {},
     "output_type": "execute_result"
    }
   ],
   "source": [
    "clase_estadistica['Edad'].mean()"
   ]
  },
  {
   "cell_type": "code",
   "execution_count": 100,
   "id": "e656007d-e808-45ba-a07a-b0e3c22331c2",
   "metadata": {},
   "outputs": [
    {
     "data": {
      "text/plain": [
       "6.25"
      ]
     },
     "execution_count": 100,
     "metadata": {},
     "output_type": "execute_result"
    }
   ],
   "source": [
    "clase_estadistica['Edad'].var(ddof=1)"
   ]
  },
  {
   "cell_type": "code",
   "execution_count": 108,
   "id": "eabcd6a2-b199-4bfa-a459-1d53f62ac1db",
   "metadata": {},
   "outputs": [
    {
     "data": {
      "text/plain": [
       "21.333333333333332"
      ]
     },
     "execution_count": 108,
     "metadata": {},
     "output_type": "execute_result"
    }
   ],
   "source": [
    "clase_estadistica[clase_estadistica['Edad']>=18]['Edad'].mean()"
   ]
  },
  {
   "cell_type": "markdown",
   "id": "01545500-e2d8-42cb-b834-d13a4438d8de",
   "metadata": {},
   "source": [
    "## Condicionales"
   ]
  },
  {
   "cell_type": "code",
   "execution_count": 109,
   "id": "71cb3e38-a638-42e0-9492-02c435497308",
   "metadata": {},
   "outputs": [],
   "source": [
    "clase_estadistica['Mayoria de edad']=np.where(clase_estadistica['Edad']>=18,'Mayor de edad','Menor de edad')"
   ]
  },
  {
   "cell_type": "code",
   "execution_count": 110,
   "id": "65ce2ca0-1a34-4099-a26c-e1962188bb85",
   "metadata": {},
   "outputs": [
    {
     "data": {
      "text/html": [
       "<div>\n",
       "<style scoped>\n",
       "    .dataframe tbody tr th:only-of-type {\n",
       "        vertical-align: middle;\n",
       "    }\n",
       "\n",
       "    .dataframe tbody tr th {\n",
       "        vertical-align: top;\n",
       "    }\n",
       "\n",
       "    .dataframe thead th {\n",
       "        text-align: right;\n",
       "    }\n",
       "</style>\n",
       "<table border=\"1\" class=\"dataframe\">\n",
       "  <thead>\n",
       "    <tr style=\"text-align: right;\">\n",
       "      <th></th>\n",
       "      <th>Nombre</th>\n",
       "      <th>Apellido</th>\n",
       "      <th>Edad</th>\n",
       "      <th>Edad en días</th>\n",
       "      <th>Estado de origen</th>\n",
       "      <th>Mayoria de edad</th>\n",
       "    </tr>\n",
       "  </thead>\n",
       "  <tbody>\n",
       "    <tr>\n",
       "      <th>0</th>\n",
       "      <td>Juan</td>\n",
       "      <td>Pérez</td>\n",
       "      <td>23</td>\n",
       "      <td>8395</td>\n",
       "      <td>Zacatecas</td>\n",
       "      <td>Mayor de edad</td>\n",
       "    </tr>\n",
       "    <tr>\n",
       "      <th>1</th>\n",
       "      <td>Raúl</td>\n",
       "      <td>González</td>\n",
       "      <td>17</td>\n",
       "      <td>6205</td>\n",
       "      <td>Nuevo Leon</td>\n",
       "      <td>Menor de edad</td>\n",
       "    </tr>\n",
       "    <tr>\n",
       "      <th>2</th>\n",
       "      <td>Jimena</td>\n",
       "      <td>Rosas</td>\n",
       "      <td>20</td>\n",
       "      <td>7300</td>\n",
       "      <td>Tamaulipas</td>\n",
       "      <td>Mayor de edad</td>\n",
       "    </tr>\n",
       "    <tr>\n",
       "      <th>3</th>\n",
       "      <td>Alejandra</td>\n",
       "      <td>Saldaña</td>\n",
       "      <td>21</td>\n",
       "      <td>7665</td>\n",
       "      <td>Sinaloa</td>\n",
       "      <td>Mayor de edad</td>\n",
       "    </tr>\n",
       "  </tbody>\n",
       "</table>\n",
       "</div>"
      ],
      "text/plain": [
       "      Nombre  Apellido  Edad  Edad en días Estado de origen Mayoria de edad\n",
       "0       Juan     Pérez    23          8395        Zacatecas   Mayor de edad\n",
       "1       Raúl  González    17          6205       Nuevo Leon   Menor de edad\n",
       "2     Jimena     Rosas    20          7300       Tamaulipas   Mayor de edad\n",
       "3  Alejandra   Saldaña    21          7665          Sinaloa   Mayor de edad"
      ]
     },
     "execution_count": 110,
     "metadata": {},
     "output_type": "execute_result"
    }
   ],
   "source": [
    "clase_estadistica"
   ]
  },
  {
   "cell_type": "code",
   "execution_count": 113,
   "id": "23bc461a-ea88-405e-8ff1-2fc0efe34085",
   "metadata": {},
   "outputs": [],
   "source": [
    "conditions = [clase_estadistica['Edad'] <= 17, \n",
    "              clase_estadistica['Edad'] < 23, \n",
    "              clase_estadistica['Edad'] >= 23]\n",
    "choices = ['Preparatoria', 'estudia licenciatura', 'egresado licenciatura']\n",
    "clase_estadistica['edad_escolar'] = np.select(conditions, choices, default='Invalid')"
   ]
  },
  {
   "cell_type": "code",
   "execution_count": 114,
   "id": "dbf7ed7c-d241-4436-9597-caf03640b8e5",
   "metadata": {},
   "outputs": [
    {
     "data": {
      "text/html": [
       "<div>\n",
       "<style scoped>\n",
       "    .dataframe tbody tr th:only-of-type {\n",
       "        vertical-align: middle;\n",
       "    }\n",
       "\n",
       "    .dataframe tbody tr th {\n",
       "        vertical-align: top;\n",
       "    }\n",
       "\n",
       "    .dataframe thead th {\n",
       "        text-align: right;\n",
       "    }\n",
       "</style>\n",
       "<table border=\"1\" class=\"dataframe\">\n",
       "  <thead>\n",
       "    <tr style=\"text-align: right;\">\n",
       "      <th></th>\n",
       "      <th>Nombre</th>\n",
       "      <th>Apellido</th>\n",
       "      <th>Edad</th>\n",
       "      <th>Edad en días</th>\n",
       "      <th>Estado de origen</th>\n",
       "      <th>Mayoria de edad</th>\n",
       "      <th>edad_escolar</th>\n",
       "    </tr>\n",
       "  </thead>\n",
       "  <tbody>\n",
       "    <tr>\n",
       "      <th>0</th>\n",
       "      <td>Juan</td>\n",
       "      <td>Pérez</td>\n",
       "      <td>23</td>\n",
       "      <td>8395</td>\n",
       "      <td>Zacatecas</td>\n",
       "      <td>Mayor de edad</td>\n",
       "      <td>egresado licenciatura</td>\n",
       "    </tr>\n",
       "    <tr>\n",
       "      <th>1</th>\n",
       "      <td>Raúl</td>\n",
       "      <td>González</td>\n",
       "      <td>17</td>\n",
       "      <td>6205</td>\n",
       "      <td>Nuevo Leon</td>\n",
       "      <td>Menor de edad</td>\n",
       "      <td>Preparatoria</td>\n",
       "    </tr>\n",
       "    <tr>\n",
       "      <th>2</th>\n",
       "      <td>Jimena</td>\n",
       "      <td>Rosas</td>\n",
       "      <td>20</td>\n",
       "      <td>7300</td>\n",
       "      <td>Tamaulipas</td>\n",
       "      <td>Mayor de edad</td>\n",
       "      <td>estudia licenciatura</td>\n",
       "    </tr>\n",
       "    <tr>\n",
       "      <th>3</th>\n",
       "      <td>Alejandra</td>\n",
       "      <td>Saldaña</td>\n",
       "      <td>21</td>\n",
       "      <td>7665</td>\n",
       "      <td>Sinaloa</td>\n",
       "      <td>Mayor de edad</td>\n",
       "      <td>estudia licenciatura</td>\n",
       "    </tr>\n",
       "  </tbody>\n",
       "</table>\n",
       "</div>"
      ],
      "text/plain": [
       "      Nombre  Apellido  Edad  Edad en días Estado de origen Mayoria de edad  \\\n",
       "0       Juan     Pérez    23          8395        Zacatecas   Mayor de edad   \n",
       "1       Raúl  González    17          6205       Nuevo Leon   Menor de edad   \n",
       "2     Jimena     Rosas    20          7300       Tamaulipas   Mayor de edad   \n",
       "3  Alejandra   Saldaña    21          7665          Sinaloa   Mayor de edad   \n",
       "\n",
       "            edad_escolar  \n",
       "0  egresado licenciatura  \n",
       "1           Preparatoria  \n",
       "2   estudia licenciatura  \n",
       "3   estudia licenciatura  "
      ]
     },
     "execution_count": 114,
     "metadata": {},
     "output_type": "execute_result"
    }
   ],
   "source": [
    "clase_estadistica"
   ]
  },
  {
   "cell_type": "code",
   "execution_count": null,
   "id": "46795482-727e-4643-a2f9-f527c1f086b1",
   "metadata": {},
   "outputs": [],
   "source": []
  }
 ],
 "metadata": {
  "kernelspec": {
   "display_name": "Python 3 (ipykernel)",
   "language": "python",
   "name": "python3"
  },
  "language_info": {
   "codemirror_mode": {
    "name": "ipython",
    "version": 3
   },
   "file_extension": ".py",
   "mimetype": "text/x-python",
   "name": "python",
   "nbconvert_exporter": "python",
   "pygments_lexer": "ipython3",
   "version": "3.9.13"
  }
 },
 "nbformat": 4,
 "nbformat_minor": 5
}
