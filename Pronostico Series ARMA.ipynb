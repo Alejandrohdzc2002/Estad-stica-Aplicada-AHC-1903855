{
 "cells": [
  {
   "cell_type": "markdown",
   "id": "0976b41a",
   "metadata": {},
   "source": [
    "# Estadística Aplicada\n",
    "## Alejandro Hernández Cerda 1903855\n",
    "### 2 de mayo de 2023"
   ]
  },
  {
   "cell_type": "markdown",
   "id": "d9ea9cb9",
   "metadata": {},
   "source": [
    "# Pronóstico del IGAE (base 2013)"
   ]
  },
  {
   "cell_type": "code",
   "execution_count": 1,
   "id": "6d929cfb",
   "metadata": {},
   "outputs": [],
   "source": [
    "import pandas as pd\n",
    "import numpy as np\n",
    "import matplotlib.pyplot as plt\n",
    "%matplotlib inline"
   ]
  },
  {
   "cell_type": "code",
   "execution_count": 2,
   "id": "0fcc188e",
   "metadata": {},
   "outputs": [],
   "source": [
    "# Las de series\n",
    "##Series de tiempo\n",
    "from statsmodels.graphics.tsaplots import plot_acf,plot_pacf\n",
    "from statsmodels.tsa.stattools import adfuller\n",
    "\n",
    "## Modelo ARMA\n",
    "from statsmodels.tsa.arima.model import ARIMA"
   ]
  },
  {
   "cell_type": "code",
   "execution_count": 4,
   "id": "c073d8a2",
   "metadata": {},
   "outputs": [
    {
     "data": {
      "text/html": [
       "<div>\n",
       "<style scoped>\n",
       "    .dataframe tbody tr th:only-of-type {\n",
       "        vertical-align: middle;\n",
       "    }\n",
       "\n",
       "    .dataframe tbody tr th {\n",
       "        vertical-align: top;\n",
       "    }\n",
       "\n",
       "    .dataframe thead th {\n",
       "        text-align: right;\n",
       "    }\n",
       "</style>\n",
       "<table border=\"1\" class=\"dataframe\">\n",
       "  <thead>\n",
       "    <tr style=\"text-align: right;\">\n",
       "      <th></th>\n",
       "      <th>Periodos</th>\n",
       "      <th>IGAE</th>\n",
       "    </tr>\n",
       "  </thead>\n",
       "  <tbody>\n",
       "    <tr>\n",
       "      <th>0</th>\n",
       "      <td>2000/01</td>\n",
       "      <td>79.325572</td>\n",
       "    </tr>\n",
       "    <tr>\n",
       "      <th>1</th>\n",
       "      <td>2000/02</td>\n",
       "      <td>78.799329</td>\n",
       "    </tr>\n",
       "    <tr>\n",
       "      <th>2</th>\n",
       "      <td>2000/03</td>\n",
       "      <td>78.714380</td>\n",
       "    </tr>\n",
       "    <tr>\n",
       "      <th>3</th>\n",
       "      <td>2000/04</td>\n",
       "      <td>79.247601</td>\n",
       "    </tr>\n",
       "    <tr>\n",
       "      <th>4</th>\n",
       "      <td>2000/05</td>\n",
       "      <td>79.795178</td>\n",
       "    </tr>\n",
       "    <tr>\n",
       "      <th>...</th>\n",
       "      <td>...</td>\n",
       "      <td>...</td>\n",
       "    </tr>\n",
       "    <tr>\n",
       "      <th>273</th>\n",
       "      <td>2022/10</td>\n",
       "      <td>113.237145</td>\n",
       "    </tr>\n",
       "    <tr>\n",
       "      <th>274</th>\n",
       "      <td>2022/11</td>\n",
       "      <td>112.815614</td>\n",
       "    </tr>\n",
       "    <tr>\n",
       "      <th>275</th>\n",
       "      <td>2022/12</td>\n",
       "      <td>113.276229</td>\n",
       "    </tr>\n",
       "    <tr>\n",
       "      <th>276</th>\n",
       "      <td>2023/01</td>\n",
       "      <td>113.982481</td>\n",
       "    </tr>\n",
       "    <tr>\n",
       "      <th>277</th>\n",
       "      <td>2023/02</td>\n",
       "      <td>114.145196</td>\n",
       "    </tr>\n",
       "  </tbody>\n",
       "</table>\n",
       "<p>278 rows × 2 columns</p>\n",
       "</div>"
      ],
      "text/plain": [
       "    Periodos        IGAE\n",
       "0    2000/01   79.325572\n",
       "1    2000/02   78.799329\n",
       "2    2000/03   78.714380\n",
       "3    2000/04   79.247601\n",
       "4    2000/05   79.795178\n",
       "..       ...         ...\n",
       "273  2022/10  113.237145\n",
       "274  2022/11  112.815614\n",
       "275  2022/12  113.276229\n",
       "276  2023/01  113.982481\n",
       "277  2023/02  114.145196\n",
       "\n",
       "[278 rows x 2 columns]"
      ]
     },
     "execution_count": 4,
     "metadata": {},
     "output_type": "execute_result"
    }
   ],
   "source": [
    "IGAE = pd.read_excel('IGAE.xlsx')\n",
    "IGAE"
   ]
  },
  {
   "cell_type": "code",
   "execution_count": 13,
   "id": "b442d1f5",
   "metadata": {},
   "outputs": [
    {
     "data": {
      "text/html": [
       "<div>\n",
       "<style scoped>\n",
       "    .dataframe tbody tr th:only-of-type {\n",
       "        vertical-align: middle;\n",
       "    }\n",
       "\n",
       "    .dataframe tbody tr th {\n",
       "        vertical-align: top;\n",
       "    }\n",
       "\n",
       "    .dataframe thead th {\n",
       "        text-align: right;\n",
       "    }\n",
       "</style>\n",
       "<table border=\"1\" class=\"dataframe\">\n",
       "  <thead>\n",
       "    <tr style=\"text-align: right;\">\n",
       "      <th></th>\n",
       "      <th>Periodos</th>\n",
       "      <th>IGAE</th>\n",
       "    </tr>\n",
       "  </thead>\n",
       "  <tbody>\n",
       "    <tr>\n",
       "      <th>0</th>\n",
       "      <td>2000-01-01</td>\n",
       "      <td>79.325572</td>\n",
       "    </tr>\n",
       "    <tr>\n",
       "      <th>1</th>\n",
       "      <td>2000-02-01</td>\n",
       "      <td>78.799329</td>\n",
       "    </tr>\n",
       "    <tr>\n",
       "      <th>2</th>\n",
       "      <td>2000-03-01</td>\n",
       "      <td>78.714380</td>\n",
       "    </tr>\n",
       "    <tr>\n",
       "      <th>3</th>\n",
       "      <td>2000-04-01</td>\n",
       "      <td>79.247601</td>\n",
       "    </tr>\n",
       "    <tr>\n",
       "      <th>4</th>\n",
       "      <td>2000-05-01</td>\n",
       "      <td>79.795178</td>\n",
       "    </tr>\n",
       "    <tr>\n",
       "      <th>...</th>\n",
       "      <td>...</td>\n",
       "      <td>...</td>\n",
       "    </tr>\n",
       "    <tr>\n",
       "      <th>273</th>\n",
       "      <td>2022-10-01</td>\n",
       "      <td>113.237145</td>\n",
       "    </tr>\n",
       "    <tr>\n",
       "      <th>274</th>\n",
       "      <td>2022-11-01</td>\n",
       "      <td>112.815614</td>\n",
       "    </tr>\n",
       "    <tr>\n",
       "      <th>275</th>\n",
       "      <td>2022-12-01</td>\n",
       "      <td>113.276229</td>\n",
       "    </tr>\n",
       "    <tr>\n",
       "      <th>276</th>\n",
       "      <td>2023-01-01</td>\n",
       "      <td>113.982481</td>\n",
       "    </tr>\n",
       "    <tr>\n",
       "      <th>277</th>\n",
       "      <td>2023-02-01</td>\n",
       "      <td>114.145196</td>\n",
       "    </tr>\n",
       "  </tbody>\n",
       "</table>\n",
       "<p>278 rows × 2 columns</p>\n",
       "</div>"
      ],
      "text/plain": [
       "      Periodos        IGAE\n",
       "0   2000-01-01   79.325572\n",
       "1   2000-02-01   78.799329\n",
       "2   2000-03-01   78.714380\n",
       "3   2000-04-01   79.247601\n",
       "4   2000-05-01   79.795178\n",
       "..         ...         ...\n",
       "273 2022-10-01  113.237145\n",
       "274 2022-11-01  112.815614\n",
       "275 2022-12-01  113.276229\n",
       "276 2023-01-01  113.982481\n",
       "277 2023-02-01  114.145196\n",
       "\n",
       "[278 rows x 2 columns]"
      ]
     },
     "execution_count": 13,
     "metadata": {},
     "output_type": "execute_result"
    }
   ],
   "source": [
    "#Esto es debido a que el formato de fecha viene dado como en sql\n",
    "##Por lo tanto debemos convertirlo a Año/mes/dia\n",
    "IGAE['Periodos']=pd.to_datetime(IGAE['Periodos'],format='%Y/%m')\n",
    "IGAE"
   ]
  },
  {
   "cell_type": "code",
   "execution_count": 9,
   "id": "7f99e546",
   "metadata": {},
   "outputs": [
    {
     "data": {
      "text/plain": [
       "RangeIndex(start=0, stop=278, step=1)"
      ]
     },
     "execution_count": 9,
     "metadata": {},
     "output_type": "execute_result"
    }
   ],
   "source": [
    "##definir la frecuencia y vamos a convertir la fecha en el index\n",
    "IGAE.index"
   ]
  },
  {
   "cell_type": "code",
   "execution_count": 21,
   "id": "66260d0e",
   "metadata": {},
   "outputs": [],
   "source": [
    "IGAE = IGAE.set_index('Periodos')"
   ]
  },
  {
   "cell_type": "code",
   "execution_count": 22,
   "id": "9659d52f",
   "metadata": {},
   "outputs": [],
   "source": [
    "IGAE = IGAE.asfreq('MS')"
   ]
  },
  {
   "cell_type": "code",
   "execution_count": 23,
   "id": "723d7d70",
   "metadata": {},
   "outputs": [
    {
     "data": {
      "text/plain": [
       "DatetimeIndex(['2000-01-01', '2000-02-01', '2000-03-01', '2000-04-01',\n",
       "               '2000-05-01', '2000-06-01', '2000-07-01', '2000-08-01',\n",
       "               '2000-09-01', '2000-10-01',\n",
       "               ...\n",
       "               '2022-05-01', '2022-06-01', '2022-07-01', '2022-08-01',\n",
       "               '2022-09-01', '2022-10-01', '2022-11-01', '2022-12-01',\n",
       "               '2023-01-01', '2023-02-01'],\n",
       "              dtype='datetime64[ns]', name='Periodos', length=278, freq='MS')"
      ]
     },
     "execution_count": 23,
     "metadata": {},
     "output_type": "execute_result"
    }
   ],
   "source": [
    "IGAE.index"
   ]
  },
  {
   "cell_type": "markdown",
   "id": "dba66752",
   "metadata": {},
   "source": [
    "**Para poder ejecutar tecnicas de series de tiempo se tiene que dar formato y frecuencia de tiempo al index**"
   ]
  },
  {
   "cell_type": "code",
   "execution_count": 26,
   "id": "71508bc4",
   "metadata": {},
   "outputs": [
    {
     "data": {
      "image/png": "[encoded data removed]",
      "text/plain": [
       "<Figure size 640x480 with 1 Axes>"
      ]
     },
     "metadata": {},
     "output_type": "display_data"
    }
   ],
   "source": [
    "# Gráfica 1\n",
    "IGAE.plot()\n",
    "plt.xlabel('meses')\n",
    "plt.show()"
   ]
  },
  {
   "cell_type": "markdown",
   "id": "1e42a5dc",
   "metadata": {},
   "source": [
    "### El proceso no parece un proceso estacionario, pero se parece a un proceso de caminara aleatoria con deriva"
   ]
  },
  {
   "cell_type": "markdown",
   "id": "aa56b8f6",
   "metadata": {},
   "source": [
    "$$ H_o:~La~serie~no~es~estacionaria $$\n",
    "$$ H_1:~La~serie~es~estacionaria $$"
   ]
  },
  {
   "cell_type": "code",
   "execution_count": 27,
   "id": "104fe261",
   "metadata": {},
   "outputs": [
    {
     "name": "stdout",
     "output_type": "stream",
     "text": [
      "no se rechaza Ho, La serie NO es estacionaria\n"
     ]
    }
   ],
   "source": [
    "#Verificaremos si este es un promedio estacionario\n",
    "# Hacemos la prueba de dickey fuller (raíz unitaria)\n",
    "ADF_test=adfuller(IGAE['IGAE'])\n",
    "#significancia\n",
    "alpha=0.05\n",
    "if ADF_test[1]<alpha:\n",
    "    print('se rechaza Ho, La serie es estacionaria')\n",
    "else:\n",
    "    print('no se rechaza Ho, La serie NO es estacionaria')\n"
   ]
  },
  {
   "cell_type": "markdown",
   "id": "a5d9a94a",
   "metadata": {},
   "source": [
    "Como la serie es NO estacionaria, tenemos que volverla estacionaria\\\n",
    "Esto es aplicando primeras diferencias:\\\n",
    "\n",
    "$\\Delta Y_t = Y_t - Y_{t-1}$"
   ]
  },
  {
   "cell_type": "code",
   "execution_count": 29,
   "id": "8298c846",
   "metadata": {},
   "outputs": [],
   "source": [
    "#Aplicando primeras diferencias a la serie\n",
    "IGAE['IGAE_diferenciado_1']=IGAE['IGAE'].diff()"
   ]
  },
  {
   "cell_type": "code",
   "execution_count": 30,
   "id": "51f2d866",
   "metadata": {},
   "outputs": [
    {
     "data": {
      "text/html": [
       "<div>\n",
       "<style scoped>\n",
       "    .dataframe tbody tr th:only-of-type {\n",
       "        vertical-align: middle;\n",
       "    }\n",
       "\n",
       "    .dataframe tbody tr th {\n",
       "        vertical-align: top;\n",
       "    }\n",
       "\n",
       "    .dataframe thead th {\n",
       "        text-align: right;\n",
       "    }\n",
       "</style>\n",
       "<table border=\"1\" class=\"dataframe\">\n",
       "  <thead>\n",
       "    <tr style=\"text-align: right;\">\n",
       "      <th></th>\n",
       "      <th>IGAE</th>\n",
       "      <th>IGAE_diferenciado_1</th>\n",
       "    </tr>\n",
       "    <tr>\n",
       "      <th>Periodos</th>\n",
       "      <th></th>\n",
       "      <th></th>\n",
       "    </tr>\n",
       "  </thead>\n",
       "  <tbody>\n",
       "    <tr>\n",
       "      <th>2000-01-01</th>\n",
       "      <td>79.325572</td>\n",
       "      <td>NaN</td>\n",
       "    </tr>\n",
       "    <tr>\n",
       "      <th>2000-02-01</th>\n",
       "      <td>78.799329</td>\n",
       "      <td>-0.526243</td>\n",
       "    </tr>\n",
       "    <tr>\n",
       "      <th>2000-03-01</th>\n",
       "      <td>78.714380</td>\n",
       "      <td>-0.084950</td>\n",
       "    </tr>\n",
       "    <tr>\n",
       "      <th>2000-04-01</th>\n",
       "      <td>79.247601</td>\n",
       "      <td>0.533221</td>\n",
       "    </tr>\n",
       "    <tr>\n",
       "      <th>2000-05-01</th>\n",
       "      <td>79.795178</td>\n",
       "      <td>0.547577</td>\n",
       "    </tr>\n",
       "    <tr>\n",
       "      <th>...</th>\n",
       "      <td>...</td>\n",
       "      <td>...</td>\n",
       "    </tr>\n",
       "    <tr>\n",
       "      <th>2022-10-01</th>\n",
       "      <td>113.237145</td>\n",
       "      <td>0.038213</td>\n",
       "    </tr>\n",
       "    <tr>\n",
       "      <th>2022-11-01</th>\n",
       "      <td>112.815614</td>\n",
       "      <td>-0.421531</td>\n",
       "    </tr>\n",
       "    <tr>\n",
       "      <th>2022-12-01</th>\n",
       "      <td>113.276229</td>\n",
       "      <td>0.460615</td>\n",
       "    </tr>\n",
       "    <tr>\n",
       "      <th>2023-01-01</th>\n",
       "      <td>113.982481</td>\n",
       "      <td>0.706252</td>\n",
       "    </tr>\n",
       "    <tr>\n",
       "      <th>2023-02-01</th>\n",
       "      <td>114.145196</td>\n",
       "      <td>0.162716</td>\n",
       "    </tr>\n",
       "  </tbody>\n",
       "</table>\n",
       "<p>278 rows × 2 columns</p>\n",
       "</div>"
      ],
      "text/plain": [
       "                  IGAE  IGAE_diferenciado_1\n",
       "Periodos                                   \n",
       "2000-01-01   79.325572                  NaN\n",
       "2000-02-01   78.799329            -0.526243\n",
       "2000-03-01   78.714380            -0.084950\n",
       "2000-04-01   79.247601             0.533221\n",
       "2000-05-01   79.795178             0.547577\n",
       "...                ...                  ...\n",
       "2022-10-01  113.237145             0.038213\n",
       "2022-11-01  112.815614            -0.421531\n",
       "2022-12-01  113.276229             0.460615\n",
       "2023-01-01  113.982481             0.706252\n",
       "2023-02-01  114.145196             0.162716\n",
       "\n",
       "[278 rows x 2 columns]"
      ]
     },
     "execution_count": 30,
     "metadata": {},
     "output_type": "execute_result"
    }
   ],
   "source": [
    "IGAE"
   ]
  },
  {
   "cell_type": "code",
   "execution_count": 32,
   "id": "ede3f908",
   "metadata": {},
   "outputs": [
    {
     "name": "stdout",
     "output_type": "stream",
     "text": [
      "se rechaza Ho, La serie es estacionaria\n"
     ]
    }
   ],
   "source": [
    "#Verificaremos si este es un promedio estacionario\n",
    "# Hacemos la prueba de dickey fuller (raíz unitaria)\n",
    "#Tenemos que dropear el valor NaN debido a que como en la columna existe un nulo, ocurre un error\n",
    "ADF_test1=adfuller(IGAE['IGAE_diferenciado_1'].dropna())\n",
    "#significancia\n",
    "alpha=0.05\n",
    "if ADF_test1[1]<alpha:\n",
    "    print('se rechaza Ho, La serie es estacionaria')\n",
    "else:\n",
    "    print('no se rechaza Ho, La serie NO es estacionaria')"
   ]
  },
  {
   "cell_type": "markdown",
   "id": "ecd6745d",
   "metadata": {},
   "source": [
    "El IGAE diferenciado una vez, es un proceso estacionario"
   ]
  },
  {
   "cell_type": "code",
   "execution_count": 36,
   "id": "98b9abc4",
   "metadata": {},
   "outputs": [
    {
     "data": {
      "text/plain": [
       "(-1.0, 1.0)"
      ]
     },
     "execution_count": 36,
     "metadata": {},
     "output_type": "execute_result"
    },
    {
     "data": {
      "image/png": "[encoded data removed]",
      "text/plain": [
       "<Figure size 1200x400 with 2 Axes>"
      ]
     },
     "metadata": {},
     "output_type": "display_data"
    }
   ],
   "source": [
    "fig, ax=plt.subplots(1,2,figsize=(12,4))\n",
    "## subgrafico 0\n",
    "plot_acf(IGAE['IGAE_diferenciado_1'].dropna(),zero=False,ax=ax[0],title='Función de autocorrelacion ACF')\n",
    "ax[0].set_ylim(-1,1)\n",
    "## subgrafico 1\n",
    "plot_pacf(IGAE['IGAE_diferenciado_1'].dropna(),zero=False,ax=ax[1],title='Función de autocorrelación parcial PACF')\n",
    "ax[1].set_ylim(-1,1)"
   ]
  },
  {
   "cell_type": "markdown",
   "id": "afa905a8",
   "metadata": {},
   "source": [
    "Un modelo ARIMA(p,I,q)\\\n",
    "p:Es la parte AR(p)\\\n",
    "I: Orden de integración, cuantas veces se diferencia la serie para hacerla estacionaria\\\n",
    "q: Es la parte de MA(q)"
   ]
  },
  {
   "cell_type": "code",
   "execution_count": 44,
   "id": "e30c6b99",
   "metadata": {},
   "outputs": [
    {
     "name": "stdout",
     "output_type": "stream",
     "text": [
      "                                SARIMAX Results                                \n",
      "===============================================================================\n",
      "Dep. Variable:     IGAE_diferenciado_1   No. Observations:                  277\n",
      "Model:                  ARIMA(2, 1, 0)   Log Likelihood                -534.653\n",
      "Date:                 Tue, 02 May 2023   AIC                           1075.306\n",
      "Time:                         16:18:20   BIC                           1086.168\n",
      "Sample:                     02-01-2000   HQIC                          1079.665\n",
      "                          - 02-01-2023                                         \n",
      "Covariance Type:                   opg                                         \n",
      "==============================================================================\n",
      "                 coef    std err          z      P>|z|      [0.025      0.975]\n",
      "------------------------------------------------------------------------------\n",
      "ar.L1         -0.3255      0.012    -27.577      0.000      -0.349      -0.302\n",
      "ar.L2         -0.3212      0.015    -22.121      0.000      -0.350      -0.293\n",
      "sigma2         2.8163      0.043     65.016      0.000       2.731       2.901\n",
      "===================================================================================\n",
      "Ljung-Box (L1) (Q):                   2.44   Jarque-Bera (JB):             41081.36\n",
      "Prob(Q):                              0.12   Prob(JB):                         0.00\n",
      "Heteroskedasticity (H):              23.89   Skew:                            -2.35\n",
      "Prob(H) (two-sided):                  0.00   Kurtosis:                        62.58\n",
      "===================================================================================\n",
      "\n",
      "Warnings:\n",
      "[1] Covariance matrix calculated using the outer product of gradients (complex-step).\n"
     ]
    }
   ],
   "source": [
    "modelo = ARIMA(IGAE['IGAE_diferenciado_1'].dropna(),order=(2,1,0))\n",
    "resultado =modelo.fit()\n",
    "print(resultado.summary())"
   ]
  },
  {
   "cell_type": "markdown",
   "id": "33bc42e0",
   "metadata": {},
   "source": [
    "Este es un modelo AR(2) $Y_t = -.32Y_t - .32Y_{t-1} + \\varepsilon_t$"
   ]
  },
  {
   "cell_type": "markdown",
   "id": "327d9a90",
   "metadata": {},
   "source": [
    "$\\varepsilon~normalest(0,\\sigma^2_{\\varepsilon} = 2.81)$"
   ]
  },
  {
   "cell_type": "code",
   "execution_count": 45,
   "id": "933ea30a",
   "metadata": {},
   "outputs": [
    {
     "data": {
      "image/png": "[encoded data removed]",
      "text/plain": [
       "<Figure size 640x480 with 1 Axes>"
      ]
     },
     "metadata": {},
     "output_type": "display_data"
    }
   ],
   "source": [
    "IGAE['IGAE_diferenciado_1'].plot()\n",
    "plt.show()"
   ]
  },
  {
   "cell_type": "markdown",
   "id": "bb3be41f",
   "metadata": {},
   "source": [
    "AIC es el criteio de Akaike (akaike criterion),BIC Criterio de bayesiano de informacion\\\n",
    "AIC,BIC,HQIC son medidas de bondad de ajuste para comparar modelos \"similares\",\\\n",
    "El mejor modelo o el modelo \"real\" es el que tiene menor valor AIC(o modelo de akaike)"
   ]
  },
  {
   "cell_type": "code",
   "execution_count": 48,
   "id": "be107d81",
   "metadata": {},
   "outputs": [
    {
     "name": "stdout",
     "output_type": "stream",
     "text": [
      "AR: 0,MA: 0\n",
      "AR: 0,MA: 1\n",
      "AR: 0,MA: 2\n",
      "AR: 0,MA: 3\n"
     ]
    },
    {
     "name": "stderr",
     "output_type": "stream",
     "text": [
      "C:\\ProgramData\\Anaconda3\\lib\\site-packages\\statsmodels\\tsa\\statespace\\sarimax.py:978: UserWarning: Non-invertible starting MA parameters found. Using zeros as starting parameters.\n",
      "  warn('Non-invertible starting MA parameters found.'\n"
     ]
    },
    {
     "name": "stdout",
     "output_type": "stream",
     "text": [
      "AR: 0,MA: 4\n"
     ]
    },
    {
     "name": "stderr",
     "output_type": "stream",
     "text": [
      "C:\\ProgramData\\Anaconda3\\lib\\site-packages\\statsmodels\\tsa\\statespace\\sarimax.py:978: UserWarning: Non-invertible starting MA parameters found. Using zeros as starting parameters.\n",
      "  warn('Non-invertible starting MA parameters found.'\n"
     ]
    },
    {
     "name": "stdout",
     "output_type": "stream",
     "text": [
      "AR: 0,MA: 5\n"
     ]
    },
    {
     "name": "stderr",
     "output_type": "stream",
     "text": [
      "C:\\ProgramData\\Anaconda3\\lib\\site-packages\\statsmodels\\tsa\\statespace\\sarimax.py:978: UserWarning: Non-invertible starting MA parameters found. Using zeros as starting parameters.\n",
      "  warn('Non-invertible starting MA parameters found.'\n"
     ]
    },
    {
     "name": "stdout",
     "output_type": "stream",
     "text": [
      "AR: 0,MA: 6\n"
     ]
    },
    {
     "name": "stderr",
     "output_type": "stream",
     "text": [
      "C:\\ProgramData\\Anaconda3\\lib\\site-packages\\statsmodels\\tsa\\statespace\\sarimax.py:978: UserWarning: Non-invertible starting MA parameters found. Using zeros as starting parameters.\n",
      "  warn('Non-invertible starting MA parameters found.'\n"
     ]
    },
    {
     "name": "stdout",
     "output_type": "stream",
     "text": [
      "AR: 1,MA: 0\n",
      "AR: 1,MA: 1\n"
     ]
    },
    {
     "name": "stderr",
     "output_type": "stream",
     "text": [
      "C:\\ProgramData\\Anaconda3\\lib\\site-packages\\statsmodels\\tsa\\statespace\\sarimax.py:978: UserWarning: Non-invertible starting MA parameters found. Using zeros as starting parameters.\n",
      "  warn('Non-invertible starting MA parameters found.'\n"
     ]
    },
    {
     "name": "stdout",
     "output_type": "stream",
     "text": [
      "AR: 1,MA: 2\n",
      "AR: 1,MA: 3\n",
      "AR: 1,MA: 4\n"
     ]
    },
    {
     "name": "stderr",
     "output_type": "stream",
     "text": [
      "C:\\ProgramData\\Anaconda3\\lib\\site-packages\\statsmodels\\tsa\\statespace\\sarimax.py:978: UserWarning: Non-invertible starting MA parameters found. Using zeros as starting parameters.\n",
      "  warn('Non-invertible starting MA parameters found.'\n",
      "C:\\ProgramData\\Anaconda3\\lib\\site-packages\\statsmodels\\base\\model.py:604: ConvergenceWarning: Maximum Likelihood optimization failed to converge. Check mle_retvals\n",
      "  warnings.warn(\"Maximum Likelihood optimization failed to \"\n",
      "C:\\ProgramData\\Anaconda3\\lib\\site-packages\\statsmodels\\tsa\\statespace\\sarimax.py:978: UserWarning: Non-invertible starting MA parameters found. Using zeros as starting parameters.\n",
      "  warn('Non-invertible starting MA parameters found.'\n"
     ]
    },
    {
     "name": "stdout",
     "output_type": "stream",
     "text": [
      "AR: 1,MA: 5\n"
     ]
    },
    {
     "name": "stderr",
     "output_type": "stream",
     "text": [
      "C:\\ProgramData\\Anaconda3\\lib\\site-packages\\statsmodels\\base\\model.py:604: ConvergenceWarning: Maximum Likelihood optimization failed to converge. Check mle_retvals\n",
      "  warnings.warn(\"Maximum Likelihood optimization failed to \"\n",
      "C:\\ProgramData\\Anaconda3\\lib\\site-packages\\statsmodels\\tsa\\statespace\\sarimax.py:978: UserWarning: Non-invertible starting MA parameters found. Using zeros as starting parameters.\n",
      "  warn('Non-invertible starting MA parameters found.'\n"
     ]
    },
    {
     "name": "stdout",
     "output_type": "stream",
     "text": [
      "AR: 1,MA: 6\n"
     ]
    },
    {
     "name": "stderr",
     "output_type": "stream",
     "text": [
      "C:\\ProgramData\\Anaconda3\\lib\\site-packages\\statsmodels\\base\\model.py:604: ConvergenceWarning: Maximum Likelihood optimization failed to converge. Check mle_retvals\n",
      "  warnings.warn(\"Maximum Likelihood optimization failed to \"\n"
     ]
    },
    {
     "name": "stdout",
     "output_type": "stream",
     "text": [
      "AR: 2,MA: 0\n",
      "AR: 2,MA: 1\n",
      "AR: 2,MA: 2\n",
      "AR: 2,MA: 3\n"
     ]
    },
    {
     "name": "stderr",
     "output_type": "stream",
     "text": [
      "C:\\ProgramData\\Anaconda3\\lib\\site-packages\\statsmodels\\base\\model.py:604: ConvergenceWarning: Maximum Likelihood optimization failed to converge. Check mle_retvals\n",
      "  warnings.warn(\"Maximum Likelihood optimization failed to \"\n",
      "C:\\ProgramData\\Anaconda3\\lib\\site-packages\\statsmodels\\tsa\\statespace\\sarimax.py:978: UserWarning: Non-invertible starting MA parameters found. Using zeros as starting parameters.\n",
      "  warn('Non-invertible starting MA parameters found.'\n"
     ]
    },
    {
     "name": "stdout",
     "output_type": "stream",
     "text": [
      "AR: 2,MA: 4\n"
     ]
    },
    {
     "name": "stderr",
     "output_type": "stream",
     "text": [
      "C:\\ProgramData\\Anaconda3\\lib\\site-packages\\statsmodels\\base\\model.py:604: ConvergenceWarning: Maximum Likelihood optimization failed to converge. Check mle_retvals\n",
      "  warnings.warn(\"Maximum Likelihood optimization failed to \"\n",
      "C:\\ProgramData\\Anaconda3\\lib\\site-packages\\statsmodels\\tsa\\statespace\\sarimax.py:978: UserWarning: Non-invertible starting MA parameters found. Using zeros as starting parameters.\n",
      "  warn('Non-invertible starting MA parameters found.'\n"
     ]
    },
    {
     "name": "stdout",
     "output_type": "stream",
     "text": [
      "AR: 2,MA: 5\n"
     ]
    },
    {
     "name": "stderr",
     "output_type": "stream",
     "text": [
      "C:\\ProgramData\\Anaconda3\\lib\\site-packages\\statsmodels\\base\\model.py:604: ConvergenceWarning: Maximum Likelihood optimization failed to converge. Check mle_retvals\n",
      "  warnings.warn(\"Maximum Likelihood optimization failed to \"\n",
      "C:\\ProgramData\\Anaconda3\\lib\\site-packages\\statsmodels\\tsa\\statespace\\sarimax.py:978: UserWarning: Non-invertible starting MA parameters found. Using zeros as starting parameters.\n",
      "  warn('Non-invertible starting MA parameters found.'\n"
     ]
    },
    {
     "name": "stdout",
     "output_type": "stream",
     "text": [
      "AR: 2,MA: 6\n"
     ]
    },
    {
     "name": "stderr",
     "output_type": "stream",
     "text": [
      "C:\\ProgramData\\Anaconda3\\lib\\site-packages\\statsmodels\\base\\model.py:604: ConvergenceWarning: Maximum Likelihood optimization failed to converge. Check mle_retvals\n",
      "  warnings.warn(\"Maximum Likelihood optimization failed to \"\n"
     ]
    },
    {
     "name": "stdout",
     "output_type": "stream",
     "text": [
      "AR: 3,MA: 0\n",
      "AR: 3,MA: 1\n",
      "AR: 3,MA: 2\n"
     ]
    },
    {
     "name": "stderr",
     "output_type": "stream",
     "text": [
      "C:\\ProgramData\\Anaconda3\\lib\\site-packages\\statsmodels\\base\\model.py:604: ConvergenceWarning: Maximum Likelihood optimization failed to converge. Check mle_retvals\n",
      "  warnings.warn(\"Maximum Likelihood optimization failed to \"\n",
      "C:\\ProgramData\\Anaconda3\\lib\\site-packages\\statsmodels\\tsa\\statespace\\sarimax.py:966: UserWarning: Non-stationary starting autoregressive parameters found. Using zeros as starting parameters.\n",
      "  warn('Non-stationary starting autoregressive parameters'\n",
      "C:\\ProgramData\\Anaconda3\\lib\\site-packages\\statsmodels\\tsa\\statespace\\sarimax.py:978: UserWarning: Non-invertible starting MA parameters found. Using zeros as starting parameters.\n",
      "  warn('Non-invertible starting MA parameters found.'\n"
     ]
    },
    {
     "name": "stdout",
     "output_type": "stream",
     "text": [
      "AR: 3,MA: 3\n"
     ]
    },
    {
     "name": "stderr",
     "output_type": "stream",
     "text": [
      "C:\\ProgramData\\Anaconda3\\lib\\site-packages\\statsmodels\\base\\model.py:604: ConvergenceWarning: Maximum Likelihood optimization failed to converge. Check mle_retvals\n",
      "  warnings.warn(\"Maximum Likelihood optimization failed to \"\n"
     ]
    },
    {
     "name": "stdout",
     "output_type": "stream",
     "text": [
      "AR: 3,MA: 4\n"
     ]
    },
    {
     "name": "stderr",
     "output_type": "stream",
     "text": [
      "C:\\ProgramData\\Anaconda3\\lib\\site-packages\\statsmodels\\base\\model.py:604: ConvergenceWarning: Maximum Likelihood optimization failed to converge. Check mle_retvals\n",
      "  warnings.warn(\"Maximum Likelihood optimization failed to \"\n",
      "C:\\ProgramData\\Anaconda3\\lib\\site-packages\\statsmodels\\tsa\\statespace\\sarimax.py:966: UserWarning: Non-stationary starting autoregressive parameters found. Using zeros as starting parameters.\n",
      "  warn('Non-stationary starting autoregressive parameters'\n",
      "C:\\ProgramData\\Anaconda3\\lib\\site-packages\\statsmodels\\tsa\\statespace\\sarimax.py:978: UserWarning: Non-invertible starting MA parameters found. Using zeros as starting parameters.\n",
      "  warn('Non-invertible starting MA parameters found.'\n"
     ]
    },
    {
     "name": "stdout",
     "output_type": "stream",
     "text": [
      "AR: 3,MA: 5\n"
     ]
    },
    {
     "name": "stderr",
     "output_type": "stream",
     "text": [
      "C:\\ProgramData\\Anaconda3\\lib\\site-packages\\statsmodels\\base\\model.py:604: ConvergenceWarning: Maximum Likelihood optimization failed to converge. Check mle_retvals\n",
      "  warnings.warn(\"Maximum Likelihood optimization failed to \"\n",
      "C:\\ProgramData\\Anaconda3\\lib\\site-packages\\statsmodels\\tsa\\statespace\\sarimax.py:978: UserWarning: Non-invertible starting MA parameters found. Using zeros as starting parameters.\n",
      "  warn('Non-invertible starting MA parameters found.'\n"
     ]
    },
    {
     "name": "stdout",
     "output_type": "stream",
     "text": [
      "AR: 3,MA: 6\n"
     ]
    },
    {
     "name": "stderr",
     "output_type": "stream",
     "text": [
      "C:\\ProgramData\\Anaconda3\\lib\\site-packages\\statsmodels\\base\\model.py:604: ConvergenceWarning: Maximum Likelihood optimization failed to converge. Check mle_retvals\n",
      "  warnings.warn(\"Maximum Likelihood optimization failed to \"\n"
     ]
    },
    {
     "name": "stdout",
     "output_type": "stream",
     "text": [
      "AR: 4,MA: 0\n",
      "AR: 4,MA: 1\n",
      "AR: 4,MA: 2\n",
      "AR: 4,MA: 3\n"
     ]
    },
    {
     "name": "stderr",
     "output_type": "stream",
     "text": [
      "C:\\ProgramData\\Anaconda3\\lib\\site-packages\\statsmodels\\tsa\\statespace\\sarimax.py:966: UserWarning: Non-stationary starting autoregressive parameters found. Using zeros as starting parameters.\n",
      "  warn('Non-stationary starting autoregressive parameters'\n",
      "C:\\ProgramData\\Anaconda3\\lib\\site-packages\\statsmodels\\tsa\\statespace\\sarimax.py:978: UserWarning: Non-invertible starting MA parameters found. Using zeros as starting parameters.\n",
      "  warn('Non-invertible starting MA parameters found.'\n",
      "C:\\ProgramData\\Anaconda3\\lib\\site-packages\\statsmodels\\base\\model.py:604: ConvergenceWarning: Maximum Likelihood optimization failed to converge. Check mle_retvals\n",
      "  warnings.warn(\"Maximum Likelihood optimization failed to \"\n",
      "C:\\ProgramData\\Anaconda3\\lib\\site-packages\\statsmodels\\tsa\\statespace\\sarimax.py:978: UserWarning: Non-invertible starting MA parameters found. Using zeros as starting parameters.\n",
      "  warn('Non-invertible starting MA parameters found.'\n"
     ]
    },
    {
     "name": "stdout",
     "output_type": "stream",
     "text": [
      "AR: 4,MA: 4\n"
     ]
    },
    {
     "name": "stderr",
     "output_type": "stream",
     "text": [
      "C:\\ProgramData\\Anaconda3\\lib\\site-packages\\statsmodels\\base\\model.py:604: ConvergenceWarning: Maximum Likelihood optimization failed to converge. Check mle_retvals\n",
      "  warnings.warn(\"Maximum Likelihood optimization failed to \"\n",
      "C:\\ProgramData\\Anaconda3\\lib\\site-packages\\statsmodels\\tsa\\statespace\\sarimax.py:966: UserWarning: Non-stationary starting autoregressive parameters found. Using zeros as starting parameters.\n",
      "  warn('Non-stationary starting autoregressive parameters'\n",
      "C:\\ProgramData\\Anaconda3\\lib\\site-packages\\statsmodels\\tsa\\statespace\\sarimax.py:978: UserWarning: Non-invertible starting MA parameters found. Using zeros as starting parameters.\n",
      "  warn('Non-invertible starting MA parameters found.'\n"
     ]
    },
    {
     "name": "stdout",
     "output_type": "stream",
     "text": [
      "AR: 4,MA: 5\n"
     ]
    },
    {
     "name": "stderr",
     "output_type": "stream",
     "text": [
      "C:\\ProgramData\\Anaconda3\\lib\\site-packages\\statsmodels\\base\\model.py:604: ConvergenceWarning: Maximum Likelihood optimization failed to converge. Check mle_retvals\n",
      "  warnings.warn(\"Maximum Likelihood optimization failed to \"\n",
      "C:\\ProgramData\\Anaconda3\\lib\\site-packages\\statsmodels\\tsa\\statespace\\sarimax.py:978: UserWarning: Non-invertible starting MA parameters found. Using zeros as starting parameters.\n",
      "  warn('Non-invertible starting MA parameters found.'\n"
     ]
    },
    {
     "name": "stdout",
     "output_type": "stream",
     "text": [
      "AR: 4,MA: 6\n"
     ]
    },
    {
     "name": "stderr",
     "output_type": "stream",
     "text": [
      "C:\\ProgramData\\Anaconda3\\lib\\site-packages\\statsmodels\\base\\model.py:604: ConvergenceWarning: Maximum Likelihood optimization failed to converge. Check mle_retvals\n",
      "  warnings.warn(\"Maximum Likelihood optimization failed to \"\n"
     ]
    },
    {
     "name": "stdout",
     "output_type": "stream",
     "text": [
      "AR: 5,MA: 0\n",
      "AR: 5,MA: 1\n",
      "AR: 5,MA: 2\n",
      "AR: 5,MA: 3\n"
     ]
    },
    {
     "name": "stderr",
     "output_type": "stream",
     "text": [
      "C:\\ProgramData\\Anaconda3\\lib\\site-packages\\statsmodels\\tsa\\statespace\\sarimax.py:966: UserWarning: Non-stationary starting autoregressive parameters found. Using zeros as starting parameters.\n",
      "  warn('Non-stationary starting autoregressive parameters'\n",
      "C:\\ProgramData\\Anaconda3\\lib\\site-packages\\statsmodels\\tsa\\statespace\\sarimax.py:978: UserWarning: Non-invertible starting MA parameters found. Using zeros as starting parameters.\n",
      "  warn('Non-invertible starting MA parameters found.'\n",
      "C:\\ProgramData\\Anaconda3\\lib\\site-packages\\statsmodels\\base\\model.py:604: ConvergenceWarning: Maximum Likelihood optimization failed to converge. Check mle_retvals\n",
      "  warnings.warn(\"Maximum Likelihood optimization failed to \"\n"
     ]
    },
    {
     "name": "stdout",
     "output_type": "stream",
     "text": [
      "AR: 5,MA: 4\n"
     ]
    },
    {
     "name": "stderr",
     "output_type": "stream",
     "text": [
      "C:\\ProgramData\\Anaconda3\\lib\\site-packages\\statsmodels\\base\\model.py:604: ConvergenceWarning: Maximum Likelihood optimization failed to converge. Check mle_retvals\n",
      "  warnings.warn(\"Maximum Likelihood optimization failed to \"\n",
      "C:\\ProgramData\\Anaconda3\\lib\\site-packages\\statsmodels\\tsa\\statespace\\sarimax.py:966: UserWarning: Non-stationary starting autoregressive parameters found. Using zeros as starting parameters.\n",
      "  warn('Non-stationary starting autoregressive parameters'\n",
      "C:\\ProgramData\\Anaconda3\\lib\\site-packages\\statsmodels\\tsa\\statespace\\sarimax.py:978: UserWarning: Non-invertible starting MA parameters found. Using zeros as starting parameters.\n",
      "  warn('Non-invertible starting MA parameters found.'\n"
     ]
    },
    {
     "name": "stdout",
     "output_type": "stream",
     "text": [
      "AR: 5,MA: 5\n"
     ]
    },
    {
     "name": "stderr",
     "output_type": "stream",
     "text": [
      "C:\\ProgramData\\Anaconda3\\lib\\site-packages\\statsmodels\\base\\model.py:604: ConvergenceWarning: Maximum Likelihood optimization failed to converge. Check mle_retvals\n",
      "  warnings.warn(\"Maximum Likelihood optimization failed to \"\n",
      "C:\\ProgramData\\Anaconda3\\lib\\site-packages\\statsmodels\\tsa\\statespace\\sarimax.py:978: UserWarning: Non-invertible starting MA parameters found. Using zeros as starting parameters.\n",
      "  warn('Non-invertible starting MA parameters found.'\n"
     ]
    },
    {
     "name": "stdout",
     "output_type": "stream",
     "text": [
      "AR: 5,MA: 6\n"
     ]
    },
    {
     "name": "stderr",
     "output_type": "stream",
     "text": [
      "C:\\ProgramData\\Anaconda3\\lib\\site-packages\\statsmodels\\base\\model.py:604: ConvergenceWarning: Maximum Likelihood optimization failed to converge. Check mle_retvals\n",
      "  warnings.warn(\"Maximum Likelihood optimization failed to \"\n"
     ]
    },
    {
     "name": "stdout",
     "output_type": "stream",
     "text": [
      "AR: 6,MA: 0\n",
      "AR: 6,MA: 1\n",
      "AR: 6,MA: 2\n"
     ]
    },
    {
     "name": "stderr",
     "output_type": "stream",
     "text": [
      "C:\\ProgramData\\Anaconda3\\lib\\site-packages\\statsmodels\\base\\model.py:604: ConvergenceWarning: Maximum Likelihood optimization failed to converge. Check mle_retvals\n",
      "  warnings.warn(\"Maximum Likelihood optimization failed to \"\n",
      "C:\\ProgramData\\Anaconda3\\lib\\site-packages\\statsmodels\\tsa\\statespace\\sarimax.py:978: UserWarning: Non-invertible starting MA parameters found. Using zeros as starting parameters.\n",
      "  warn('Non-invertible starting MA parameters found.'\n"
     ]
    },
    {
     "name": "stdout",
     "output_type": "stream",
     "text": [
      "AR: 6,MA: 3\n",
      "AR: 6,MA: 4\n"
     ]
    },
    {
     "name": "stderr",
     "output_type": "stream",
     "text": [
      "C:\\ProgramData\\Anaconda3\\lib\\site-packages\\statsmodels\\tsa\\statespace\\sarimax.py:978: UserWarning: Non-invertible starting MA parameters found. Using zeros as starting parameters.\n",
      "  warn('Non-invertible starting MA parameters found.'\n",
      "C:\\ProgramData\\Anaconda3\\lib\\site-packages\\statsmodels\\base\\model.py:604: ConvergenceWarning: Maximum Likelihood optimization failed to converge. Check mle_retvals\n",
      "  warnings.warn(\"Maximum Likelihood optimization failed to \"\n",
      "C:\\ProgramData\\Anaconda3\\lib\\site-packages\\statsmodels\\tsa\\statespace\\sarimax.py:966: UserWarning: Non-stationary starting autoregressive parameters found. Using zeros as starting parameters.\n",
      "  warn('Non-stationary starting autoregressive parameters'\n",
      "C:\\ProgramData\\Anaconda3\\lib\\site-packages\\statsmodels\\tsa\\statespace\\sarimax.py:978: UserWarning: Non-invertible starting MA parameters found. Using zeros as starting parameters.\n",
      "  warn('Non-invertible starting MA parameters found.'\n"
     ]
    },
    {
     "name": "stdout",
     "output_type": "stream",
     "text": [
      "AR: 6,MA: 5\n"
     ]
    },
    {
     "name": "stderr",
     "output_type": "stream",
     "text": [
      "C:\\ProgramData\\Anaconda3\\lib\\site-packages\\statsmodels\\base\\model.py:604: ConvergenceWarning: Maximum Likelihood optimization failed to converge. Check mle_retvals\n",
      "  warnings.warn(\"Maximum Likelihood optimization failed to \"\n",
      "C:\\ProgramData\\Anaconda3\\lib\\site-packages\\statsmodels\\tsa\\statespace\\sarimax.py:978: UserWarning: Non-invertible starting MA parameters found. Using zeros as starting parameters.\n",
      "  warn('Non-invertible starting MA parameters found.'\n"
     ]
    },
    {
     "name": "stdout",
     "output_type": "stream",
     "text": [
      "AR: 6,MA: 6\n"
     ]
    },
    {
     "name": "stderr",
     "output_type": "stream",
     "text": [
      "C:\\ProgramData\\Anaconda3\\lib\\site-packages\\statsmodels\\base\\model.py:604: ConvergenceWarning: Maximum Likelihood optimization failed to converge. Check mle_retvals\n",
      "  warnings.warn(\"Maximum Likelihood optimization failed to \"\n"
     ]
    }
   ],
   "source": [
    "# vamos a estimar varios modelos y que se guarde el AIC y BIC\n",
    "ic={}\n",
    "for ar in range(7):\n",
    "    for ma in range(7):\n",
    "        print(f'AR: {ar},MA: {ma}')\n",
    "        modelo = ARIMA(IGAE['IGAE_diferenciado_1'].dropna(),order=(ar,1,ma))\n",
    "        resultado = modelo.fit()\n",
    "        ic[(ar,ma)] = [resultado.aic,resultado.bic]\n",
    "\n",
    "ic = pd.DataFrame(ic,index=['AIC','BIC']).T\n",
    "ic.index=ic.index.set_names(['AR','MA'])"
   ]
  },
  {
   "cell_type": "code",
   "execution_count": 49,
   "id": "3cf02431",
   "metadata": {},
   "outputs": [
    {
     "data": {
      "text/html": [
       "<div>\n",
       "<style scoped>\n",
       "    .dataframe tbody tr th:only-of-type {\n",
       "        vertical-align: middle;\n",
       "    }\n",
       "\n",
       "    .dataframe tbody tr th {\n",
       "        vertical-align: top;\n",
       "    }\n",
       "\n",
       "    .dataframe thead th {\n",
       "        text-align: right;\n",
       "    }\n",
       "</style>\n",
       "<table border=\"1\" class=\"dataframe\">\n",
       "  <thead>\n",
       "    <tr style=\"text-align: right;\">\n",
       "      <th></th>\n",
       "      <th></th>\n",
       "      <th>AIC</th>\n",
       "      <th>BIC</th>\n",
       "    </tr>\n",
       "    <tr>\n",
       "      <th>AR</th>\n",
       "      <th>MA</th>\n",
       "      <th></th>\n",
       "      <th></th>\n",
       "    </tr>\n",
       "  </thead>\n",
       "  <tbody>\n",
       "    <tr>\n",
       "      <th rowspan=\"7\" valign=\"top\">0</th>\n",
       "      <th>0</th>\n",
       "      <td>1118.837789</td>\n",
       "      <td>1122.458190</td>\n",
       "    </tr>\n",
       "    <tr>\n",
       "      <th>1</th>\n",
       "      <td>1004.998535</td>\n",
       "      <td>1012.239336</td>\n",
       "    </tr>\n",
       "    <tr>\n",
       "      <th>2</th>\n",
       "      <td>985.963505</td>\n",
       "      <td>996.824708</td>\n",
       "    </tr>\n",
       "    <tr>\n",
       "      <th>3</th>\n",
       "      <td>986.037910</td>\n",
       "      <td>1000.519514</td>\n",
       "    </tr>\n",
       "    <tr>\n",
       "      <th>4</th>\n",
       "      <td>976.999158</td>\n",
       "      <td>995.101162</td>\n",
       "    </tr>\n",
       "    <tr>\n",
       "      <th>5</th>\n",
       "      <td>977.683325</td>\n",
       "      <td>999.405731</td>\n",
       "    </tr>\n",
       "    <tr>\n",
       "      <th>6</th>\n",
       "      <td>977.307097</td>\n",
       "      <td>1002.649903</td>\n",
       "    </tr>\n",
       "    <tr>\n",
       "      <th rowspan=\"7\" valign=\"top\">1</th>\n",
       "      <th>0</th>\n",
       "      <td>1103.568042</td>\n",
       "      <td>1110.808844</td>\n",
       "    </tr>\n",
       "    <tr>\n",
       "      <th>1</th>\n",
       "      <td>992.424407</td>\n",
       "      <td>1003.285610</td>\n",
       "    </tr>\n",
       "    <tr>\n",
       "      <th>2</th>\n",
       "      <td>987.216423</td>\n",
       "      <td>1001.698026</td>\n",
       "    </tr>\n",
       "    <tr>\n",
       "      <th>3</th>\n",
       "      <td>988.354525</td>\n",
       "      <td>1006.456530</td>\n",
       "    </tr>\n",
       "    <tr>\n",
       "      <th>4</th>\n",
       "      <td>975.907470</td>\n",
       "      <td>997.629875</td>\n",
       "    </tr>\n",
       "    <tr>\n",
       "      <th>5</th>\n",
       "      <td>980.479559</td>\n",
       "      <td>1005.822365</td>\n",
       "    </tr>\n",
       "    <tr>\n",
       "      <th>6</th>\n",
       "      <td>979.606955</td>\n",
       "      <td>1008.570161</td>\n",
       "    </tr>\n",
       "    <tr>\n",
       "      <th rowspan=\"7\" valign=\"top\">2</th>\n",
       "      <th>0</th>\n",
       "      <td>1075.306385</td>\n",
       "      <td>1086.167588</td>\n",
       "    </tr>\n",
       "    <tr>\n",
       "      <th>1</th>\n",
       "      <td>979.727908</td>\n",
       "      <td>994.209511</td>\n",
       "    </tr>\n",
       "    <tr>\n",
       "      <th>2</th>\n",
       "      <td>975.786161</td>\n",
       "      <td>993.888165</td>\n",
       "    </tr>\n",
       "    <tr>\n",
       "      <th>3</th>\n",
       "      <td>987.161031</td>\n",
       "      <td>1008.883437</td>\n",
       "    </tr>\n",
       "    <tr>\n",
       "      <th>4</th>\n",
       "      <td>980.171893</td>\n",
       "      <td>1005.514699</td>\n",
       "    </tr>\n",
       "    <tr>\n",
       "      <th>5</th>\n",
       "      <td>990.816734</td>\n",
       "      <td>1019.779941</td>\n",
       "    </tr>\n",
       "    <tr>\n",
       "      <th>6</th>\n",
       "      <td>978.864182</td>\n",
       "      <td>1011.447790</td>\n",
       "    </tr>\n",
       "    <tr>\n",
       "      <th rowspan=\"7\" valign=\"top\">3</th>\n",
       "      <th>0</th>\n",
       "      <td>1053.545410</td>\n",
       "      <td>1068.027013</td>\n",
       "    </tr>\n",
       "    <tr>\n",
       "      <th>1</th>\n",
       "      <td>979.293959</td>\n",
       "      <td>997.395963</td>\n",
       "    </tr>\n",
       "    <tr>\n",
       "      <th>2</th>\n",
       "      <td>980.956766</td>\n",
       "      <td>1002.679172</td>\n",
       "    </tr>\n",
       "    <tr>\n",
       "      <th>3</th>\n",
       "      <td>979.778234</td>\n",
       "      <td>1005.121040</td>\n",
       "    </tr>\n",
       "    <tr>\n",
       "      <th>4</th>\n",
       "      <td>978.398750</td>\n",
       "      <td>1007.361957</td>\n",
       "    </tr>\n",
       "    <tr>\n",
       "      <th>5</th>\n",
       "      <td>980.417503</td>\n",
       "      <td>1013.001111</td>\n",
       "    </tr>\n",
       "    <tr>\n",
       "      <th>6</th>\n",
       "      <td>989.154180</td>\n",
       "      <td>1025.358188</td>\n",
       "    </tr>\n",
       "    <tr>\n",
       "      <th rowspan=\"7\" valign=\"top\">4</th>\n",
       "      <th>0</th>\n",
       "      <td>1046.031856</td>\n",
       "      <td>1064.133861</td>\n",
       "    </tr>\n",
       "    <tr>\n",
       "      <th>1</th>\n",
       "      <td>980.871241</td>\n",
       "      <td>1002.593646</td>\n",
       "    </tr>\n",
       "    <tr>\n",
       "      <th>2</th>\n",
       "      <td>982.185533</td>\n",
       "      <td>1007.528339</td>\n",
       "    </tr>\n",
       "    <tr>\n",
       "      <th>3</th>\n",
       "      <td>986.027449</td>\n",
       "      <td>1014.990656</td>\n",
       "    </tr>\n",
       "    <tr>\n",
       "      <th>4</th>\n",
       "      <td>981.769682</td>\n",
       "      <td>1014.353290</td>\n",
       "    </tr>\n",
       "    <tr>\n",
       "      <th>5</th>\n",
       "      <td>981.614130</td>\n",
       "      <td>1017.818138</td>\n",
       "    </tr>\n",
       "    <tr>\n",
       "      <th>6</th>\n",
       "      <td>984.143016</td>\n",
       "      <td>1023.967425</td>\n",
       "    </tr>\n",
       "    <tr>\n",
       "      <th rowspan=\"7\" valign=\"top\">5</th>\n",
       "      <th>0</th>\n",
       "      <td>1035.994766</td>\n",
       "      <td>1057.717171</td>\n",
       "    </tr>\n",
       "    <tr>\n",
       "      <th>1</th>\n",
       "      <td>980.491802</td>\n",
       "      <td>1005.834608</td>\n",
       "    </tr>\n",
       "    <tr>\n",
       "      <th>2</th>\n",
       "      <td>982.420505</td>\n",
       "      <td>1011.383712</td>\n",
       "    </tr>\n",
       "    <tr>\n",
       "      <th>3</th>\n",
       "      <td>981.358940</td>\n",
       "      <td>1013.942548</td>\n",
       "    </tr>\n",
       "    <tr>\n",
       "      <th>4</th>\n",
       "      <td>984.026430</td>\n",
       "      <td>1020.230439</td>\n",
       "    </tr>\n",
       "    <tr>\n",
       "      <th>5</th>\n",
       "      <td>986.700870</td>\n",
       "      <td>1026.525280</td>\n",
       "    </tr>\n",
       "    <tr>\n",
       "      <th>6</th>\n",
       "      <td>986.873469</td>\n",
       "      <td>1030.318279</td>\n",
       "    </tr>\n",
       "    <tr>\n",
       "      <th rowspan=\"7\" valign=\"top\">6</th>\n",
       "      <th>0</th>\n",
       "      <td>1034.850760</td>\n",
       "      <td>1060.193566</td>\n",
       "    </tr>\n",
       "    <tr>\n",
       "      <th>1</th>\n",
       "      <td>982.148164</td>\n",
       "      <td>1011.111370</td>\n",
       "    </tr>\n",
       "    <tr>\n",
       "      <th>2</th>\n",
       "      <td>983.658457</td>\n",
       "      <td>1016.242065</td>\n",
       "    </tr>\n",
       "    <tr>\n",
       "      <th>3</th>\n",
       "      <td>986.822892</td>\n",
       "      <td>1023.026900</td>\n",
       "    </tr>\n",
       "    <tr>\n",
       "      <th>4</th>\n",
       "      <td>985.877848</td>\n",
       "      <td>1025.702258</td>\n",
       "    </tr>\n",
       "    <tr>\n",
       "      <th>5</th>\n",
       "      <td>986.146425</td>\n",
       "      <td>1029.591236</td>\n",
       "    </tr>\n",
       "    <tr>\n",
       "      <th>6</th>\n",
       "      <td>987.770768</td>\n",
       "      <td>1034.835980</td>\n",
       "    </tr>\n",
       "  </tbody>\n",
       "</table>\n",
       "</div>"
      ],
      "text/plain": [
       "               AIC          BIC\n",
       "AR MA                          \n",
       "0  0   1118.837789  1122.458190\n",
       "   1   1004.998535  1012.239336\n",
       "   2    985.963505   996.824708\n",
       "   3    986.037910  1000.519514\n",
       "   4    976.999158   995.101162\n",
       "   5    977.683325   999.405731\n",
       "   6    977.307097  1002.649903\n",
       "1  0   1103.568042  1110.808844\n",
       "   1    992.424407  1003.285610\n",
       "   2    987.216423  1001.698026\n",
       "   3    988.354525  1006.456530\n",
       "   4    975.907470   997.629875\n",
       "   5    980.479559  1005.822365\n",
       "   6    979.606955  1008.570161\n",
       "2  0   1075.306385  1086.167588\n",
       "   1    979.727908   994.209511\n",
       "   2    975.786161   993.888165\n",
       "   3    987.161031  1008.883437\n",
       "   4    980.171893  1005.514699\n",
       "   5    990.816734  1019.779941\n",
       "   6    978.864182  1011.447790\n",
       "3  0   1053.545410  1068.027013\n",
       "   1    979.293959   997.395963\n",
       "   2    980.956766  1002.679172\n",
       "   3    979.778234  1005.121040\n",
       "   4    978.398750  1007.361957\n",
       "   5    980.417503  1013.001111\n",
       "   6    989.154180  1025.358188\n",
       "4  0   1046.031856  1064.133861\n",
       "   1    980.871241  1002.593646\n",
       "   2    982.185533  1007.528339\n",
       "   3    986.027449  1014.990656\n",
       "   4    981.769682  1014.353290\n",
       "   5    981.614130  1017.818138\n",
       "   6    984.143016  1023.967425\n",
       "5  0   1035.994766  1057.717171\n",
       "   1    980.491802  1005.834608\n",
       "   2    982.420505  1011.383712\n",
       "   3    981.358940  1013.942548\n",
       "   4    984.026430  1020.230439\n",
       "   5    986.700870  1026.525280\n",
       "   6    986.873469  1030.318279\n",
       "6  0   1034.850760  1060.193566\n",
       "   1    982.148164  1011.111370\n",
       "   2    983.658457  1016.242065\n",
       "   3    986.822892  1023.026900\n",
       "   4    985.877848  1025.702258\n",
       "   5    986.146425  1029.591236\n",
       "   6    987.770768  1034.835980"
      ]
     },
     "execution_count": 49,
     "metadata": {},
     "output_type": "execute_result"
    }
   ],
   "source": [
    "ic"
   ]
  },
  {
   "cell_type": "code",
   "execution_count": 50,
   "id": "3ffabd20",
   "metadata": {},
   "outputs": [
    {
     "data": {
      "text/html": [
       "<div>\n",
       "<style scoped>\n",
       "    .dataframe tbody tr th:only-of-type {\n",
       "        vertical-align: middle;\n",
       "    }\n",
       "\n",
       "    .dataframe tbody tr th {\n",
       "        vertical-align: top;\n",
       "    }\n",
       "\n",
       "    .dataframe thead th {\n",
       "        text-align: right;\n",
       "    }\n",
       "</style>\n",
       "<table border=\"1\" class=\"dataframe\">\n",
       "  <thead>\n",
       "    <tr style=\"text-align: right;\">\n",
       "      <th></th>\n",
       "      <th></th>\n",
       "      <th>AIC</th>\n",
       "      <th>BIC</th>\n",
       "    </tr>\n",
       "    <tr>\n",
       "      <th>AR</th>\n",
       "      <th>MA</th>\n",
       "      <th></th>\n",
       "      <th></th>\n",
       "    </tr>\n",
       "  </thead>\n",
       "  <tbody>\n",
       "    <tr>\n",
       "      <th>2</th>\n",
       "      <th>2</th>\n",
       "      <td>975.786161</td>\n",
       "      <td>993.888165</td>\n",
       "    </tr>\n",
       "    <tr>\n",
       "      <th>1</th>\n",
       "      <th>4</th>\n",
       "      <td>975.907470</td>\n",
       "      <td>997.629875</td>\n",
       "    </tr>\n",
       "    <tr>\n",
       "      <th rowspan=\"3\" valign=\"top\">0</th>\n",
       "      <th>4</th>\n",
       "      <td>976.999158</td>\n",
       "      <td>995.101162</td>\n",
       "    </tr>\n",
       "    <tr>\n",
       "      <th>6</th>\n",
       "      <td>977.307097</td>\n",
       "      <td>1002.649903</td>\n",
       "    </tr>\n",
       "    <tr>\n",
       "      <th>5</th>\n",
       "      <td>977.683325</td>\n",
       "      <td>999.405731</td>\n",
       "    </tr>\n",
       "  </tbody>\n",
       "</table>\n",
       "</div>"
      ],
      "text/plain": [
       "              AIC          BIC\n",
       "AR MA                         \n",
       "2  2   975.786161   993.888165\n",
       "1  4   975.907470   997.629875\n",
       "0  4   976.999158   995.101162\n",
       "   6   977.307097  1002.649903\n",
       "   5   977.683325   999.405731"
      ]
     },
     "execution_count": 50,
     "metadata": {},
     "output_type": "execute_result"
    }
   ],
   "source": [
    "#Como el mejor modelo es el que tiene su AIC menor\n",
    "#Ordenamo AIC de menor a mayor\n",
    "ic.sort_values('AIC',ascending=True)[0:5]"
   ]
  },
  {
   "cell_type": "markdown",
   "id": "93c35ccb",
   "metadata": {},
   "source": [
    "Segun el AIC, podemos decir que el mejor modelo es el AIC"
   ]
  },
  {
   "cell_type": "code",
   "execution_count": 51,
   "id": "529e4257",
   "metadata": {},
   "outputs": [
    {
     "name": "stdout",
     "output_type": "stream",
     "text": [
      "                                SARIMAX Results                                \n",
      "===============================================================================\n",
      "Dep. Variable:     IGAE_diferenciado_1   No. Observations:                  278\n",
      "Model:                  ARIMA(2, 1, 2)   Log Likelihood                -490.720\n",
      "Date:                 Tue, 02 May 2023   AIC                            991.440\n",
      "Time:                         16:35:32   BIC                           1009.560\n",
      "Sample:                     01-01-2000   HQIC                           998.710\n",
      "                          - 02-01-2023                                         \n",
      "Covariance Type:                   opg                                         \n",
      "==============================================================================\n",
      "                 coef    std err          z      P>|z|      [0.025      0.975]\n",
      "------------------------------------------------------------------------------\n",
      "ar.L1          0.9508      0.129      7.394      0.000       0.699       1.203\n",
      "ar.L2         -0.3433      0.091     -3.754      0.000      -0.522      -0.164\n",
      "ma.L1         -1.7393      0.959     -1.813      0.070      -3.620       0.141\n",
      "ma.L2          0.7394      0.694      1.066      0.286      -0.620       2.099\n",
      "sigma2         1.8912      1.909      0.991      0.322      -1.850       5.632\n",
      "===================================================================================\n",
      "Ljung-Box (L1) (Q):                   0.08   Jarque-Bera (JB):            205622.81\n",
      "Prob(Q):                              0.78   Prob(JB):                         0.00\n",
      "Heteroskedasticity (H):              20.69   Skew:                            -9.51\n",
      "Prob(H) (two-sided):                  0.00   Kurtosis:                       135.11\n",
      "===================================================================================\n",
      "\n",
      "Warnings:\n",
      "[1] Covariance matrix calculated using the outer product of gradients (complex-step).\n"
     ]
    }
   ],
   "source": [
    "## el mejor modelo a estimar es el IGAE diferenciado en un ARIMA(2,1,2)\n",
    "MOD = ARIMA(IGAE['IGAE_diferenciado_1'],order=(2,1,2))\n",
    "resultado = MOD.fit()\n",
    "print(resultado.summary())"
   ]
  },
  {
   "cell_type": "markdown",
   "id": "c228b31d",
   "metadata": {},
   "source": [
    "Una vez que hemos elegido el modelo, se debe pronosticar.\n",
    "\n",
    "Vamos a pronosticar el IGAE diferenciado"
   ]
  },
  {
   "cell_type": "code",
   "execution_count": 54,
   "id": "b6245668",
   "metadata": {},
   "outputs": [
    {
     "data": {
      "text/plain": [
       "2023-03-01   -0.035695\n",
       "2023-04-01   -0.041001\n",
       "2023-05-01    0.022059\n",
       "2023-06-01    0.083836\n",
       "2023-07-01    0.120927\n",
       "2023-08-01    0.134987\n",
       "2023-09-01    0.135623\n",
       "2023-10-01    0.131402\n",
       "Freq: MS, Name: predicted_mean, dtype: float64"
      ]
     },
     "execution_count": 54,
     "metadata": {},
     "output_type": "execute_result"
    }
   ],
   "source": [
    "resultado.predict('2023-03-01','2023-10-01')"
   ]
  },
  {
   "cell_type": "code",
   "execution_count": 59,
   "id": "f06d1292",
   "metadata": {},
   "outputs": [
    {
     "data": {
      "text/plain": [
       "2023-03-01    113.940583\n",
       "2023-04-01    113.718561\n",
       "2023-05-01    113.584648\n",
       "2023-06-01    113.525094\n",
       "2023-07-01    113.506176\n",
       "2023-08-01    113.503828\n",
       "2023-09-01    113.506016\n",
       "2023-10-01    113.508274\n",
       "Freq: MS, Name: predicted_mean, dtype: float64"
      ]
     },
     "execution_count": 59,
     "metadata": {},
     "output_type": "execute_result"
    }
   ],
   "source": [
    "#Realmente nos interesa pronosticar el IGAE\n",
    "##Cuantas veces se diferencio el IGAE para hacerse estacionario\n",
    "MOD2 = ARIMA(IGAE['IGAE'],order=(2,1,2))\n",
    "resultado2=MOD2.fit()\n",
    "resultado2.predict('2023-03-01','2023-10-01')"
   ]
  },
  {
   "cell_type": "code",
   "execution_count": 67,
   "id": "d391472d",
   "metadata": {},
   "outputs": [
    {
     "data": {
      "image/png": "[encoded data removed]",
      "text/plain": [
       "<Figure size 640x480 with 1 Axes>"
      ]
     },
     "metadata": {},
     "output_type": "display_data"
    }
   ],
   "source": [
    "#libreria para la gráfica del pronostico\n",
    "from statsmodels.graphics.tsaplots import plot_predict\n",
    "#codigo\n",
    "plot_predict(resultado2,start='2023-02-01',end='2023-10-01')\n",
    "IGAE['IGAE'].plot()\n",
    "plt.title('IGAE y pronóstico')\n",
    "plt.xlim('2019-01','2027-10')\n",
    "plt.show()"
   ]
  },
  {
   "cell_type": "markdown",
   "id": "f0b188f1",
   "metadata": {},
   "source": [
    "El pronostico de modelos ARIMA es bastante preciso a corto plazo(1-3 periodos), pero muy impreciso a largo plazo(más de 3 periodos)"
   ]
  },
  {
   "cell_type": "code",
   "execution_count": 69,
   "id": "f2ae4448",
   "metadata": {},
   "outputs": [
    {
     "data": {
      "text/plain": [
       "2023-02-01    113.980595\n",
       "2023-03-01    113.940583\n",
       "2023-04-01    113.718561\n",
       "2023-05-01    113.584648\n",
       "2023-06-01    113.525094\n",
       "2023-07-01    113.506176\n",
       "2023-08-01    113.503828\n",
       "2023-09-01    113.506016\n",
       "2023-10-01    113.508274\n",
       "Freq: MS, Name: predicted_mean, dtype: float64"
      ]
     },
     "execution_count": 69,
     "metadata": {},
     "output_type": "execute_result"
    }
   ],
   "source": [
    "resultado2.predict('2023-02-01','2023-10-01')"
   ]
  }
 ],
 "metadata": {
  "kernelspec": {
   "display_name": "Python 3 (ipykernel)",
   "language": "python",
   "name": "python3"
  },
  "language_info": {
   "codemirror_mode": {
    "name": "ipython",
    "version": 3
   },
   "file_extension": ".py",
   "mimetype": "text/x-python",
   "name": "python",
   "nbconvert_exporter": "python",
   "pygments_lexer": "ipython3",
   "version": "3.9.13"
  }
 },
 "nbformat": 4,
 "nbformat_minor": 5
}
