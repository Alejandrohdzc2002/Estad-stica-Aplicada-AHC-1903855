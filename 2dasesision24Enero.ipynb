{
 "cells": [
  {
   "cell_type": "markdown",
   "id": "0e6fbd13-4fe7-4e99-a1c4-d403e67b098c",
   "metadata": {},
   "source": [
    "# Estadística Aplicada\n",
    "## Alejandro Hernández Cerda 1903855\n",
    "### Objetos en Python"
   ]
  },
  {
   "cell_type": "code",
   "execution_count": 3,
   "id": "094c962e-04b7-4917-ad9a-573e75ee05d2",
   "metadata": {},
   "outputs": [],
   "source": [
    "alumno1=['Juan','Perez',23]"
   ]
  },
  {
   "cell_type": "code",
   "execution_count": 12,
   "id": "5d3252c4-7cde-4f01-8d61-20adfd17020c",
   "metadata": {},
   "outputs": [],
   "source": [
    "estadistica_g4=['Juan','Raul','Ximena','Alejandra']"
   ]
  },
  {
   "cell_type": "code",
   "execution_count": 13,
   "id": "561f555b-55be-4bb5-a557-1c72020afeaa",
   "metadata": {},
   "outputs": [
    {
     "data": {
      "text/plain": [
       "['Juan', 'Raul', 'Ximena', 'Alejandra']"
      ]
     },
     "execution_count": 13,
     "metadata": {},
     "output_type": "execute_result"
    }
   ],
   "source": [
    "estadistica_g4"
   ]
  },
  {
   "cell_type": "code",
   "execution_count": 15,
   "id": "da2fd95b-d887-4652-ab4e-b0ba405e66c4",
   "metadata": {},
   "outputs": [
    {
     "data": {
      "text/plain": [
       "'Ximena'"
      ]
     },
     "execution_count": 15,
     "metadata": {},
     "output_type": "execute_result"
    }
   ],
   "source": [
    "estadistica_g4[2]"
   ]
  },
  {
   "cell_type": "code",
   "execution_count": 17,
   "id": "2db7a746-a74c-4032-89a0-d35602237b98",
   "metadata": {},
   "outputs": [
    {
     "data": {
      "text/plain": [
       "'Juan'"
      ]
     },
     "execution_count": 17,
     "metadata": {},
     "output_type": "execute_result"
    }
   ],
   "source": [
    "estadistica_g4[0]"
   ]
  },
  {
   "cell_type": "code",
   "execution_count": 20,
   "id": "2d8f0ec1-ef1f-41c4-a692-1e56d17b286f",
   "metadata": {},
   "outputs": [
    {
     "data": {
      "text/plain": [
       "('Juan', 'Ximena')"
      ]
     },
     "execution_count": 20,
     "metadata": {},
     "output_type": "execute_result"
    }
   ],
   "source": [
    "estadistica_g4[0],estadistica_g4[2]"
   ]
  },
  {
   "cell_type": "code",
   "execution_count": 22,
   "id": "50ca4b10-92d2-45fc-9c60-09e0141ed5d8",
   "metadata": {},
   "outputs": [
    {
     "data": {
      "text/plain": [
       "['Juan', 'Raul', 'Ximena']"
      ]
     },
     "execution_count": 22,
     "metadata": {},
     "output_type": "execute_result"
    }
   ],
   "source": [
    "estadistica_g4[0:3]"
   ]
  },
  {
   "cell_type": "code",
   "execution_count": 36,
   "id": "180b4683-81db-4e1a-9380-0a79d8cd838a",
   "metadata": {},
   "outputs": [],
   "source": [
    "estadistica_g4.append('Jaime')"
   ]
  },
  {
   "cell_type": "code",
   "execution_count": 26,
   "id": "14672815-da8c-42c7-80de-e7286785a2bb",
   "metadata": {},
   "outputs": [
    {
     "data": {
      "text/plain": [
       "['Juan', 'Raul', 'Ximena', 'Alejandra', 'Jaime', 'Jaime']"
      ]
     },
     "execution_count": 26,
     "metadata": {},
     "output_type": "execute_result"
    }
   ],
   "source": [
    "estadistica_g4"
   ]
  },
  {
   "cell_type": "code",
   "execution_count": 30,
   "id": "16f3908a-dd11-49e6-8445-5dfd79febcd9",
   "metadata": {},
   "outputs": [
    {
     "data": {
      "text/plain": [
       "['Juan', 'Raul', 'Alejandra', 'Jaime', 'Jaime']"
      ]
     },
     "execution_count": 30,
     "metadata": {},
     "output_type": "execute_result"
    }
   ],
   "source": [
    "estadistica_g4"
   ]
  },
  {
   "cell_type": "code",
   "execution_count": 35,
   "id": "7e091fbb-ccb8-462a-8428-2a374c1f7655",
   "metadata": {},
   "outputs": [],
   "source": [
    "estadistica_g4.remove('Jaime')"
   ]
  },
  {
   "cell_type": "code",
   "execution_count": 38,
   "id": "35d94f37-14c3-40de-9d08-f7af86708375",
   "metadata": {},
   "outputs": [
    {
     "data": {
      "text/plain": [
       "['Juan', 'Raul', 'Alejandra', 'Jaime']"
      ]
     },
     "execution_count": 38,
     "metadata": {},
     "output_type": "execute_result"
    }
   ],
   "source": [
    "estadistica_g4"
   ]
  },
  {
   "cell_type": "code",
   "execution_count": 45,
   "id": "b346e295-f468-4fe6-956b-0b53c33ad97b",
   "metadata": {},
   "outputs": [
    {
     "name": "stdout",
     "output_type": "stream",
     "text": [
      "Requirement already satisfied: yfinance in c:\\users\\lenovo\\anaconda3\\lib\\site-packages (0.2.4)\n",
      "Requirement already satisfied: numpy>=1.16.5 in c:\\users\\lenovo\\anaconda3\\lib\\site-packages (from yfinance) (1.21.5)\n",
      "Requirement already satisfied: appdirs>=1.4.4 in c:\\users\\lenovo\\anaconda3\\lib\\site-packages (from yfinance) (1.4.4)\n",
      "Requirement already satisfied: cryptography>=3.3.2 in c:\\users\\lenovo\\anaconda3\\lib\\site-packages (from yfinance) (3.4.8)\n",
      "Requirement already satisfied: multitasking>=0.0.7 in c:\\users\\lenovo\\anaconda3\\lib\\site-packages (from yfinance) (0.0.11)\n",
      "Requirement already satisfied: requests>=2.26 in c:\\users\\lenovo\\anaconda3\\lib\\site-packages (from yfinance) (2.27.1)\n",
      "Requirement already satisfied: html5lib>=1.1 in c:\\users\\lenovo\\anaconda3\\lib\\site-packages (from yfinance) (1.1)\n",
      "Requirement already satisfied: pandas>=1.3.0 in c:\\users\\lenovo\\anaconda3\\lib\\site-packages (from yfinance) (1.4.2)\n",
      "Requirement already satisfied: beautifulsoup4>=4.11.1 in c:\\users\\lenovo\\anaconda3\\lib\\site-packages (from yfinance) (4.11.1)\n",
      "Requirement already satisfied: frozendict>=2.3.4 in c:\\users\\lenovo\\anaconda3\\lib\\site-packages (from yfinance) (2.3.4)\n",
      "Requirement already satisfied: lxml>=4.9.1 in c:\\users\\lenovo\\anaconda3\\lib\\site-packages (from yfinance) (4.9.2)\n",
      "Requirement already satisfied: pytz>=2022.5 in c:\\users\\lenovo\\anaconda3\\lib\\site-packages (from yfinance) (2022.7.1)\n",
      "Requirement already satisfied: soupsieve>1.2 in c:\\users\\lenovo\\anaconda3\\lib\\site-packages (from beautifulsoup4>=4.11.1->yfinance) (2.3.1)\n",
      "Requirement already satisfied: cffi>=1.12 in c:\\users\\lenovo\\anaconda3\\lib\\site-packages (from cryptography>=3.3.2->yfinance) (1.15.0)\n",
      "Requirement already satisfied: pycparser in c:\\users\\lenovo\\anaconda3\\lib\\site-packages (from cffi>=1.12->cryptography>=3.3.2->yfinance) (2.21)\n",
      "Requirement already satisfied: six>=1.9 in c:\\users\\lenovo\\anaconda3\\lib\\site-packages (from html5lib>=1.1->yfinance) (1.16.0)\n",
      "Requirement already satisfied: webencodings in c:\\users\\lenovo\\anaconda3\\lib\\site-packages (from html5lib>=1.1->yfinance) (0.5.1)\n",
      "Requirement already satisfied: python-dateutil>=2.8.1 in c:\\users\\lenovo\\anaconda3\\lib\\site-packages (from pandas>=1.3.0->yfinance) (2.8.2)\n",
      "Requirement already satisfied: charset-normalizer~=2.0.0 in c:\\users\\lenovo\\anaconda3\\lib\\site-packages (from requests>=2.26->yfinance) (2.0.4)\n",
      "Requirement already satisfied: urllib3<1.27,>=1.21.1 in c:\\users\\lenovo\\anaconda3\\lib\\site-packages (from requests>=2.26->yfinance) (1.26.9)\n",
      "Requirement already satisfied: certifi>=2017.4.17 in c:\\users\\lenovo\\anaconda3\\lib\\site-packages (from requests>=2.26->yfinance) (2021.10.8)\n",
      "Requirement already satisfied: idna<4,>=2.5 in c:\\users\\lenovo\\anaconda3\\lib\\site-packages (from requests>=2.26->yfinance) (3.3)\n",
      "Note: you may need to restart the kernel to use updated packages.\n"
     ]
    }
   ],
   "source": [
    "pip install yfinance"
   ]
  },
  {
   "cell_type": "code",
   "execution_count": 48,
   "id": "71f6e222-850d-49ba-9ec2-6cf7ca1753fd",
   "metadata": {},
   "outputs": [],
   "source": [
    "import yfinance as yf"
   ]
  },
  {
   "cell_type": "markdown",
   "id": "94aad50d-172f-411d-8758-973dceecda9f",
   "metadata": {},
   "source": [
    "**ASI SE INSTALA UNA LIBRERIA** // **Y ASÍ SE LE CAMBIA EL NOMBRE PARA REDUCIRLO**"
   ]
  },
  {
   "cell_type": "code",
   "execution_count": 50,
   "id": "97697374-7ae1-4245-a246-4522546778e6",
   "metadata": {},
   "outputs": [],
   "source": [
    "import numpy as np"
   ]
  },
  {
   "cell_type": "code",
   "execution_count": 61,
   "id": "25492564-3f9b-4037-b63d-4d30263c0025",
   "metadata": {},
   "outputs": [],
   "source": [
    "edades=[12,23,34,45,56]"
   ]
  },
  {
   "cell_type": "code",
   "execution_count": 56,
   "id": "1c424de4-57cc-4e1b-bb26-ba7894f20caf",
   "metadata": {},
   "outputs": [
    {
     "data": {
      "text/plain": [
       "list"
      ]
     },
     "execution_count": 56,
     "metadata": {},
     "output_type": "execute_result"
    }
   ],
   "source": [
    "type(edades)"
   ]
  },
  {
   "cell_type": "code",
   "execution_count": 63,
   "id": "17ab8e3a-daab-433f-b3e4-db28855ef5f0",
   "metadata": {},
   "outputs": [],
   "source": [
    "edades= np.array(edades)"
   ]
  },
  {
   "cell_type": "code",
   "execution_count": 65,
   "id": "8e8af312-5b09-4b4b-9314-eeb87b534a0f",
   "metadata": {},
   "outputs": [
    {
     "data": {
      "text/plain": [
       "170"
      ]
     },
     "execution_count": 65,
     "metadata": {},
     "output_type": "execute_result"
    }
   ],
   "source": [
    "np.sum(edades)"
   ]
  },
  {
   "cell_type": "code",
   "execution_count": 67,
   "id": "eda8f227-7f2d-4432-ab9d-4d65b3254ced",
   "metadata": {},
   "outputs": [
    {
     "data": {
      "text/plain": [
       "34.0"
      ]
     },
     "execution_count": 67,
     "metadata": {},
     "output_type": "execute_result"
    }
   ],
   "source": [
    "np.mean(edades)"
   ]
  },
  {
   "cell_type": "code",
   "execution_count": 68,
   "id": "ea96db47-b68d-4e1f-a5a9-ff108cd012bc",
   "metadata": {},
   "outputs": [
    {
     "data": {
      "text/plain": [
       "23647680"
      ]
     },
     "execution_count": 68,
     "metadata": {},
     "output_type": "execute_result"
    }
   ],
   "source": [
    "np.prod(edades)"
   ]
  },
  {
   "cell_type": "code",
   "execution_count": 70,
   "id": "a897e9b1-ac36-475a-9216-3e438f93be13",
   "metadata": {},
   "outputs": [
    {
     "data": {
      "text/plain": [
       "242.0"
      ]
     },
     "execution_count": 70,
     "metadata": {},
     "output_type": "execute_result"
    }
   ],
   "source": [
    "np.var(edades)"
   ]
  },
  {
   "cell_type": "markdown",
   "id": "e33da597-88b7-4bcd-a0a3-24e5cf64d5ce",
   "metadata": {},
   "source": [
    "**VARIANZA POBLACIONAL PUES DDOF = 0**"
   ]
  },
  {
   "cell_type": "code",
   "execution_count": 71,
   "id": "245a934e-06ce-473d-b220-efc612f0d176",
   "metadata": {},
   "outputs": [
    {
     "data": {
      "text/plain": [
       "302.5"
      ]
     },
     "execution_count": 71,
     "metadata": {},
     "output_type": "execute_result"
    }
   ],
   "source": [
    "np.var(edades,ddof=1)"
   ]
  },
  {
   "cell_type": "markdown",
   "id": "8c53b610-0721-4b63-9e61-8f28666a4cb3",
   "metadata": {},
   "source": [
    "**VARIANZA MUESTRAL PUES DDOF=1**"
   ]
  },
  {
   "cell_type": "code",
   "execution_count": 72,
   "id": "c67e432a-b5f2-4b82-b02f-a38df788ed46",
   "metadata": {},
   "outputs": [
    {
     "data": {
      "text/plain": [
       "15.556349186104045"
      ]
     },
     "execution_count": 72,
     "metadata": {},
     "output_type": "execute_result"
    }
   ],
   "source": [
    "np.std(edades)"
   ]
  },
  {
   "cell_type": "code",
   "execution_count": 73,
   "id": "3dab12e9-de20-41ca-92b2-d64dd55e4a14",
   "metadata": {},
   "outputs": [
    {
     "data": {
      "text/plain": [
       "17.392527130926087"
      ]
     },
     "execution_count": 73,
     "metadata": {},
     "output_type": "execute_result"
    }
   ],
   "source": [
    "np.std(edades,ddof=1)"
   ]
  },
  {
   "cell_type": "code",
   "execution_count": 74,
   "id": "f34b6ac7-a16f-45c7-8beb-bfc93a7bd6b8",
   "metadata": {},
   "outputs": [
    {
     "data": {
      "text/plain": [
       "array([0, 1, 2, 3, 4, 5, 6, 7, 8])"
      ]
     },
     "execution_count": 74,
     "metadata": {},
     "output_type": "execute_result"
    }
   ],
   "source": [
    "np.arange(9)"
   ]
  },
  {
   "cell_type": "code",
   "execution_count": 77,
   "id": "3b43c608-9419-4a71-9de0-8bbc97d66fb5",
   "metadata": {},
   "outputs": [
    {
     "data": {
      "text/plain": [
       "array([ 0, 15, 30, 45, 60, 75, 90])"
      ]
     },
     "execution_count": 77,
     "metadata": {},
     "output_type": "execute_result"
    }
   ],
   "source": [
    "np.arange(0,101,15)"
   ]
  },
  {
   "cell_type": "code",
   "execution_count": 79,
   "id": "7833b6b0-c15a-4015-aa85-fc21091895e7",
   "metadata": {},
   "outputs": [
    {
     "data": {
      "text/plain": [
       "array([0., 0., 0., 0., 0.])"
      ]
     },
     "execution_count": 79,
     "metadata": {},
     "output_type": "execute_result"
    }
   ],
   "source": [
    "np.zeros(5)"
   ]
  },
  {
   "cell_type": "code",
   "execution_count": 83,
   "id": "f4bb68d1-d96f-4a38-9295-597799ca8c83",
   "metadata": {},
   "outputs": [
    {
     "data": {
      "text/plain": [
       "array([1., 1., 1., 1., 1.])"
      ]
     },
     "execution_count": 83,
     "metadata": {},
     "output_type": "execute_result"
    }
   ],
   "source": [
    "np.ones(5)"
   ]
  },
  {
   "cell_type": "code",
   "execution_count": 85,
   "id": "a862b6bd-3bf1-4c82-b25e-dbac429f63de",
   "metadata": {},
   "outputs": [
    {
     "data": {
      "text/plain": [
       "array([6, 6, 6, 6, 6, 6, 6, 6])"
      ]
     },
     "execution_count": 85,
     "metadata": {},
     "output_type": "execute_result"
    }
   ],
   "source": [
    "np.full(8,6)"
   ]
  },
  {
   "cell_type": "code",
   "execution_count": 87,
   "id": "f15733d4-b42b-48ef-b43d-fc3a8287258f",
   "metadata": {},
   "outputs": [
    {
     "data": {
      "text/plain": [
       "array([ 2,  2, 23,  8, 24, 18,  0, 23, 10, 11])"
      ]
     },
     "execution_count": 87,
     "metadata": {},
     "output_type": "execute_result"
    }
   ],
   "source": [
    "np.random.randint(0,25,10)"
   ]
  },
  {
   "cell_type": "markdown",
   "id": "800bc79a-3909-4680-a37b-7c30651cd77c",
   "metadata": {},
   "source": [
    "**SEMILLA, ESTO ES PARA QUE AL MOMENTO DE GENERAR NUMEROS ALEATORIOS SEAN SIEMPRE LOS MISMOS**"
   ]
  },
  {
   "cell_type": "code",
   "execution_count": 92,
   "id": "5f3b78c9-0bd1-4a90-ba70-611b15d7b943",
   "metadata": {},
   "outputs": [
    {
     "data": {
      "text/plain": [
       "array([ 3, 14, 15,  6, 22, 16,  9,  8,  4,  7])"
      ]
     },
     "execution_count": 92,
     "metadata": {},
     "output_type": "execute_result"
    }
   ],
   "source": [
    "np.random.seed(5)\n",
    "np.random.randint(0,25,10)"
   ]
  },
  {
   "cell_type": "code",
   "execution_count": 94,
   "id": "4eb9a34a-8544-49b8-84c9-f74ed988d8c8",
   "metadata": {},
   "outputs": [],
   "source": [
    "aleatorios=np.random.randint(0,25,10)"
   ]
  },
  {
   "cell_type": "code",
   "execution_count": null,
   "id": "8932ef4f-184c-4daa-a800-d0638fc01510",
   "metadata": {},
   "outputs": [],
   "source": []
  },
  {
   "cell_type": "code",
   "execution_count": null,
   "id": "d8937016-b415-43b3-af74-7619e6c0900b",
   "metadata": {},
   "outputs": [],
   "source": []
  },
  {
   "cell_type": "code",
   "execution_count": null,
   "id": "8139e7b6-0c52-42ee-b714-b52bdf22547b",
   "metadata": {},
   "outputs": [],
   "source": []
  }
 ],
 "metadata": {
  "kernelspec": {
   "display_name": "Python 3 (ipykernel)",
   "language": "python",
   "name": "python3"
  },
  "language_info": {
   "codemirror_mode": {
    "name": "ipython",
    "version": 3
   },
   "file_extension": ".py",
   "mimetype": "text/x-python",
   "name": "python",
   "nbconvert_exporter": "python",
   "pygments_lexer": "ipython3",
   "version": "3.9.12"
  }
 },
 "nbformat": 4,
 "nbformat_minor": 5
}
