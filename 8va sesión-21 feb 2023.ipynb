{
 "cells": [
  {
   "cell_type": "markdown",
   "id": "c79ab81a",
   "metadata": {},
   "source": [
    "# Estadística Aplicada\n",
    "## Alejandro Hernández Cerda 1903855\n",
    "### 8va Sesión 21 de febrero 2023"
   ]
  },
  {
   "cell_type": "code",
   "execution_count": 4,
   "id": "440b67b4",
   "metadata": {},
   "outputs": [],
   "source": [
    "import numpy as np\n",
    "import pandas as pd\n",
    "import matplotlib.pyplot as plt\n",
    "from lifelines import ExponentialFitter\n",
    "%matplotlib inline"
   ]
  },
  {
   "cell_type": "code",
   "execution_count": 8,
   "id": "10a9e23e",
   "metadata": {},
   "outputs": [],
   "source": [
    "## importaremos los datos\n",
    "dic1={'tiempo':[5,8,12,24,32,17,16,17,19,30],'evento':[1,1,1,1,1,1,0,0,0,0]}"
   ]
  },
  {
   "cell_type": "code",
   "execution_count": 10,
   "id": "fc787b25",
   "metadata": {},
   "outputs": [
    {
     "data": {
      "text/html": [
       "<div>\n",
       "<style scoped>\n",
       "    .dataframe tbody tr th:only-of-type {\n",
       "        vertical-align: middle;\n",
       "    }\n",
       "\n",
       "    .dataframe tbody tr th {\n",
       "        vertical-align: top;\n",
       "    }\n",
       "\n",
       "    .dataframe thead th {\n",
       "        text-align: right;\n",
       "    }\n",
       "</style>\n",
       "<table border=\"1\" class=\"dataframe\">\n",
       "  <thead>\n",
       "    <tr style=\"text-align: right;\">\n",
       "      <th></th>\n",
       "      <th>tiempo</th>\n",
       "      <th>evento</th>\n",
       "    </tr>\n",
       "  </thead>\n",
       "  <tbody>\n",
       "    <tr>\n",
       "      <th>0</th>\n",
       "      <td>5</td>\n",
       "      <td>1</td>\n",
       "    </tr>\n",
       "    <tr>\n",
       "      <th>1</th>\n",
       "      <td>8</td>\n",
       "      <td>1</td>\n",
       "    </tr>\n",
       "    <tr>\n",
       "      <th>2</th>\n",
       "      <td>12</td>\n",
       "      <td>1</td>\n",
       "    </tr>\n",
       "    <tr>\n",
       "      <th>3</th>\n",
       "      <td>24</td>\n",
       "      <td>1</td>\n",
       "    </tr>\n",
       "    <tr>\n",
       "      <th>4</th>\n",
       "      <td>32</td>\n",
       "      <td>1</td>\n",
       "    </tr>\n",
       "    <tr>\n",
       "      <th>5</th>\n",
       "      <td>17</td>\n",
       "      <td>1</td>\n",
       "    </tr>\n",
       "    <tr>\n",
       "      <th>6</th>\n",
       "      <td>16</td>\n",
       "      <td>0</td>\n",
       "    </tr>\n",
       "    <tr>\n",
       "      <th>7</th>\n",
       "      <td>17</td>\n",
       "      <td>0</td>\n",
       "    </tr>\n",
       "    <tr>\n",
       "      <th>8</th>\n",
       "      <td>19</td>\n",
       "      <td>0</td>\n",
       "    </tr>\n",
       "    <tr>\n",
       "      <th>9</th>\n",
       "      <td>30</td>\n",
       "      <td>0</td>\n",
       "    </tr>\n",
       "  </tbody>\n",
       "</table>\n",
       "</div>"
      ],
      "text/plain": [
       "   tiempo  evento\n",
       "0       5       1\n",
       "1       8       1\n",
       "2      12       1\n",
       "3      24       1\n",
       "4      32       1\n",
       "5      17       1\n",
       "6      16       0\n",
       "7      17       0\n",
       "8      19       0\n",
       "9      30       0"
      ]
     },
     "execution_count": 10,
     "metadata": {},
     "output_type": "execute_result"
    }
   ],
   "source": [
    "datos = pd.DataFrame(dic1)\n",
    "datos"
   ]
  },
  {
   "cell_type": "markdown",
   "id": "1c02129c",
   "metadata": {},
   "source": [
    "$\\hat{\\lambda} = \\frac{\\sum\\delta_i}{\\sum t_i}$"
   ]
  },
  {
   "cell_type": "code",
   "execution_count": 11,
   "id": "9acc1abf",
   "metadata": {},
   "outputs": [],
   "source": [
    "est_lambda = datos['evento'].sum() / datos['tiempo'].sum()"
   ]
  },
  {
   "cell_type": "code",
   "execution_count": 14,
   "id": "ce90fea1",
   "metadata": {},
   "outputs": [
    {
     "data": {
      "text/plain": [
       "0.03333333333333333"
      ]
     },
     "execution_count": 14,
     "metadata": {},
     "output_type": "execute_result"
    }
   ],
   "source": [
    "est_lambda"
   ]
  },
  {
   "cell_type": "code",
   "execution_count": 18,
   "id": "ee0e7efa",
   "metadata": {},
   "outputs": [
    {
     "data": {
      "text/plain": [
       "<lifelines.ExponentialFitter:\"Exponential_estimate\", fitted with 10 total observations, 4 right-censored observations>"
      ]
     },
     "execution_count": 18,
     "metadata": {},
     "output_type": "execute_result"
    }
   ],
   "source": [
    "ex1 = ExponentialFitter().fit(datos['tiempo'],datos['evento'])\n",
    "ex1"
   ]
  },
  {
   "cell_type": "code",
   "execution_count": 21,
   "id": "0aa83394",
   "metadata": {},
   "outputs": [
    {
     "data": {
      "text/html": [
       "<div>\n",
       "<style scoped>\n",
       "    .dataframe tbody tr th:only-of-type {\n",
       "        vertical-align: middle;\n",
       "    }\n",
       "\n",
       "    .dataframe tbody tr th {\n",
       "        vertical-align: top;\n",
       "    }\n",
       "\n",
       "    .dataframe thead th {\n",
       "        text-align: right;\n",
       "    }\n",
       "</style>\n",
       "<table border=\"1\" class=\"dataframe\">\n",
       "  <tbody>\n",
       "    <tr>\n",
       "      <th>model</th>\n",
       "      <td>lifelines.ExponentialFitter</td>\n",
       "    </tr>\n",
       "    <tr>\n",
       "      <th>number of observations</th>\n",
       "      <td>10</td>\n",
       "    </tr>\n",
       "    <tr>\n",
       "      <th>number of events observed</th>\n",
       "      <td>6</td>\n",
       "    </tr>\n",
       "    <tr>\n",
       "      <th>log-likelihood</th>\n",
       "      <td>-26.41</td>\n",
       "    </tr>\n",
       "    <tr>\n",
       "      <th>hypothesis</th>\n",
       "      <td>lambda_ != 0</td>\n",
       "    </tr>\n",
       "  </tbody>\n",
       "</table>\n",
       "</div><table border=\"1\" class=\"dataframe\">\n",
       "  <thead>\n",
       "    <tr style=\"text-align: right;\">\n",
       "      <th style=\"min-width: 12px;\"></th>\n",
       "      <th style=\"min-width: 12px;\">coef</th>\n",
       "      <th style=\"min-width: 12px;\">se(coef)</th>\n",
       "      <th style=\"min-width: 12px;\">coef lower 95%</th>\n",
       "      <th style=\"min-width: 12px;\">coef upper 95%</th>\n",
       "      <th style=\"min-width: 12px;\">cmp to</th>\n",
       "      <th style=\"min-width: 12px;\">z</th>\n",
       "      <th style=\"min-width: 12px;\">p</th>\n",
       "      <th style=\"min-width: 12px;\">-log2(p)</th>\n",
       "    </tr>\n",
       "  </thead>\n",
       "  <tbody>\n",
       "    <tr>\n",
       "      <th>lambda_</th>\n",
       "      <td>30.00</td>\n",
       "      <td>12.25</td>\n",
       "      <td>6.00</td>\n",
       "      <td>54.00</td>\n",
       "      <td>0.00</td>\n",
       "      <td>2.45</td>\n",
       "      <td>0.01</td>\n",
       "      <td>6.13</td>\n",
       "    </tr>\n",
       "  </tbody>\n",
       "</table><br><div>\n",
       "<style scoped>\n",
       "    .dataframe tbody tr th:only-of-type {\n",
       "        vertical-align: middle;\n",
       "    }\n",
       "\n",
       "    .dataframe tbody tr th {\n",
       "        vertical-align: top;\n",
       "    }\n",
       "\n",
       "    .dataframe thead th {\n",
       "        text-align: right;\n",
       "    }\n",
       "</style>\n",
       "<table border=\"1\" class=\"dataframe\">\n",
       "  <tbody>\n",
       "    <tr>\n",
       "      <th>AIC</th>\n",
       "      <td>54.81</td>\n",
       "    </tr>\n",
       "  </tbody>\n",
       "</table>\n",
       "</div>"
      ],
      "text/latex": [
       "\\begin{tabular}{lrrrrrrrr}\n",
       " & coef & se(coef) & coef lower 95% & coef upper 95% & cmp to & z & p & -log2(p) \\\\\n",
       "lambda_ & 30.00 & 12.25 & 6.00 & 54.00 & 0.00 & 2.45 & 0.01 & 6.13 \\\\\n",
       "\\end{tabular}\n"
      ],
      "text/plain": [
       "<lifelines.ExponentialFitter:\"Exponential_estimate\", fitted with 10 total observations, 4 right-censored observations>\n",
       "   number of observations = 10\n",
       "number of events observed = 6\n",
       "           log-likelihood = -26.41\n",
       "               hypothesis = lambda_ != 0\n",
       "\n",
       "---\n",
       "          coef   se(coef)   coef lower 95%   coef upper 95%\n",
       "lambda_  30.00      12.25             6.00            54.00\n",
       "\n",
       "          cmp to    z    p   -log2(p)\n",
       "lambda_     0.00 2.45 0.01       6.13\n",
       "---\n",
       "AIC = 54.81"
      ]
     },
     "metadata": {},
     "output_type": "display_data"
    }
   ],
   "source": [
    "ex1.print_summary()"
   ]
  },
  {
   "cell_type": "code",
   "execution_count": 27,
   "id": "3f8974df",
   "metadata": {},
   "outputs": [
    {
     "data": {
      "text/plain": [
       "<function matplotlib.pyplot.show(close=None, block=None)>"
      ]
     },
     "execution_count": 27,
     "metadata": {},
     "output_type": "execute_result"
    },
    {
     "data": {
      "image/png": "[encoded data removed]",
      "text/plain": [
       "<Figure size 640x480 with 1 Axes>"
      ]
     },
     "metadata": {},
     "output_type": "display_data"
    }
   ],
   "source": [
    "ex1.plot_survival_function(label='Funcion de Supervivencia eponencial').legend()\n",
    "plt.show #Las areas sombreadas son los intervalos de confianza del 95%"
   ]
  },
  {
   "cell_type": "code",
   "execution_count": 31,
   "id": "bf87c0a9",
   "metadata": {},
   "outputs": [
    {
     "data": {
      "text/plain": [
       "<function matplotlib.pyplot.show(close=None, block=None)>"
      ]
     },
     "execution_count": 31,
     "metadata": {},
     "output_type": "execute_result"
    },
    {
     "data": {
      "image/png": "[encoded data removed]",
      "text/plain": [
       "<Figure size 640x480 with 1 Axes>"
      ]
     },
     "metadata": {},
     "output_type": "display_data"
    }
   ],
   "source": [
    "ex1.plot_density(label='Funcion de Supervivencia eponencial').legend()\n",
    "plt.show"
   ]
  },
  {
   "cell_type": "code",
   "execution_count": 33,
   "id": "1bb9ec91",
   "metadata": {},
   "outputs": [
    {
     "data": {
      "text/plain": [
       "<function matplotlib.pyplot.show(close=None, block=None)>"
      ]
     },
     "execution_count": 33,
     "metadata": {},
     "output_type": "execute_result"
    },
    {
     "data": {
      "image/png": "[encoded data removed]",
      "text/plain": [
       "<Figure size 640x480 with 1 Axes>"
      ]
     },
     "metadata": {},
     "output_type": "display_data"
    }
   ],
   "source": [
    "ex1.plot_hazard(label='Funcion de Supervivencia eponencial').legend()\n",
    "plt.ylim(0,.1)\n",
    "plt.show"
   ]
  },
  {
   "cell_type": "code",
   "execution_count": 35,
   "id": "7555a9b0",
   "metadata": {},
   "outputs": [
    {
     "data": {
      "text/plain": [
       "20.794415437592868"
      ]
     },
     "execution_count": 35,
     "metadata": {},
     "output_type": "execute_result"
    }
   ],
   "source": [
    "ex1.median_survival_time_#en la mediana se acumula el 50% de nuestras observaciones"
   ]
  },
  {
   "cell_type": "markdown",
   "id": "03322f97",
   "metadata": {},
   "source": [
    "En este caso, la mediana del tiempo de supervivencia significa que, en el tiempo del mes 20 a la mitad de los individuos o al 50% de los individuos ya les ocurrio el evento."
   ]
  },
  {
   "cell_type": "code",
   "execution_count": 36,
   "id": "5133dcf8",
   "metadata": {},
   "outputs": [
    {
     "data": {
      "text/plain": [
       "16    0.586646\n",
       "Name: Exponential_estimate, dtype: float64"
      ]
     },
     "execution_count": 36,
     "metadata": {},
     "output_type": "execute_result"
    }
   ],
   "source": [
    "ex1.survival_function_at_times(16)"
   ]
  },
  {
   "cell_type": "markdown",
   "id": "ee4f03d2",
   "metadata": {},
   "source": [
    "Esto es la probabilidad de sobrevivir 16 veces"
   ]
  },
  {
   "cell_type": "code",
   "execution_count": null,
   "id": "326917f3",
   "metadata": {},
   "outputs": [],
   "source": []
  }
 ],
 "metadata": {
  "kernelspec": {
   "display_name": "Python 3 (ipykernel)",
   "language": "python",
   "name": "python3"
  },
  "language_info": {
   "codemirror_mode": {
    "name": "ipython",
    "version": 3
   },
   "file_extension": ".py",
   "mimetype": "text/x-python",
   "name": "python",
   "nbconvert_exporter": "python",
   "pygments_lexer": "ipython3",
   "version": "3.9.13"
  }
 },
 "nbformat": 4,
 "nbformat_minor": 5
}
